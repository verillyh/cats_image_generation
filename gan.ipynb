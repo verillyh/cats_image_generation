{
 "cells": [
  {
   "cell_type": "code",
   "execution_count": 1,
   "id": "1abbaf28",
   "metadata": {
    "execution": {
     "iopub.execute_input": "2025-05-12T10:31:00.390153Z",
     "iopub.status.busy": "2025-05-12T10:31:00.389923Z",
     "iopub.status.idle": "2025-05-12T10:31:13.625936Z",
     "shell.execute_reply": "2025-05-12T10:31:13.625140Z"
    },
    "papermill": {
     "duration": 13.241548,
     "end_time": "2025-05-12T10:31:13.627365",
     "exception": false,
     "start_time": "2025-05-12T10:31:00.385817",
     "status": "completed"
    },
    "tags": []
   },
   "outputs": [
    {
     "name": "stderr",
     "output_type": "stream",
     "text": [
      "2025-05-12 10:31:01.751874: E external/local_xla/xla/stream_executor/cuda/cuda_fft.cc:477] Unable to register cuFFT factory: Attempting to register factory for plugin cuFFT when one has already been registered\n",
      "WARNING: All log messages before absl::InitializeLog() is called are written to STDERR\n",
      "E0000 00:00:1747045861.938537      19 cuda_dnn.cc:8310] Unable to register cuDNN factory: Attempting to register factory for plugin cuDNN when one has already been registered\n",
      "E0000 00:00:1747045861.993831      19 cuda_blas.cc:1418] Unable to register cuBLAS factory: Attempting to register factory for plugin cuBLAS when one has already been registered\n"
     ]
    }
   ],
   "source": [
    "import tensorflow as tf\n",
    "import matplotlib.pyplot as plt\n",
    "from tensorflow.keras import layers\n",
    "from tqdm import tqdm\n",
    "import os"
   ]
  },
  {
   "cell_type": "markdown",
   "id": "3e7b7825",
   "metadata": {
    "papermill": {
     "duration": 0.002807,
     "end_time": "2025-05-12T10:31:13.633402",
     "exception": false,
     "start_time": "2025-05-12T10:31:13.630595",
     "status": "completed"
    },
    "tags": []
   },
   "source": [
    "# Global Variables"
   ]
  },
  {
   "cell_type": "code",
   "execution_count": 2,
   "id": "2f0844c1",
   "metadata": {
    "execution": {
     "iopub.execute_input": "2025-05-12T10:31:13.639891Z",
     "iopub.status.busy": "2025-05-12T10:31:13.639117Z",
     "iopub.status.idle": "2025-05-12T10:31:13.642494Z",
     "shell.execute_reply": "2025-05-12T10:31:13.641956Z"
    },
    "papermill": {
     "duration": 0.007553,
     "end_time": "2025-05-12T10:31:13.643580",
     "exception": false,
     "start_time": "2025-05-12T10:31:13.636027",
     "status": "completed"
    },
    "tags": []
   },
   "outputs": [],
   "source": [
    "LATENT_DIM = 100\n",
    "BATCH_SIZE = 32"
   ]
  },
  {
   "cell_type": "markdown",
   "id": "326dabe2",
   "metadata": {
    "papermill": {
     "duration": 0.002383,
     "end_time": "2025-05-12T10:31:13.648591",
     "exception": false,
     "start_time": "2025-05-12T10:31:13.646208",
     "status": "completed"
    },
    "tags": []
   },
   "source": [
    "# Preparing Dataset"
   ]
  },
  {
   "cell_type": "markdown",
   "id": "f8a222fe",
   "metadata": {
    "papermill": {
     "duration": 0.002526,
     "end_time": "2025-05-12T10:31:13.653728",
     "exception": false,
     "start_time": "2025-05-12T10:31:13.651202",
     "status": "completed"
    },
    "tags": []
   },
   "source": [
    "## Loading Paths"
   ]
  },
  {
   "cell_type": "code",
   "execution_count": 3,
   "id": "823bbb11",
   "metadata": {
    "execution": {
     "iopub.execute_input": "2025-05-12T10:31:13.659692Z",
     "iopub.status.busy": "2025-05-12T10:31:13.659383Z",
     "iopub.status.idle": "2025-05-12T10:31:13.904295Z",
     "shell.execute_reply": "2025-05-12T10:31:13.903801Z"
    },
    "papermill": {
     "duration": 0.24915,
     "end_time": "2025-05-12T10:31:13.905472",
     "exception": false,
     "start_time": "2025-05-12T10:31:13.656322",
     "status": "completed"
    },
    "tags": []
   },
   "outputs": [],
   "source": [
    "ds_path = \"/kaggle/input/cat-dataset\"\n",
    "images_path = []\n",
    "\n",
    "for folder in os.listdir(ds_path):\n",
    "    for file in os.listdir(os.path.join(ds_path, folder)):\n",
    "        if file[-3:] == \"jpg\":\n",
    "            images_path.append(os.path.join(ds_path, folder, file))"
   ]
  },
  {
   "cell_type": "markdown",
   "id": "c68b8634",
   "metadata": {
    "papermill": {
     "duration": 0.002372,
     "end_time": "2025-05-12T10:31:13.910604",
     "exception": false,
     "start_time": "2025-05-12T10:31:13.908232",
     "status": "completed"
    },
    "tags": []
   },
   "source": [
    "## Loading files as tf.data"
   ]
  },
  {
   "cell_type": "code",
   "execution_count": 4,
   "id": "ce336752",
   "metadata": {
    "execution": {
     "iopub.execute_input": "2025-05-12T10:31:13.916391Z",
     "iopub.status.busy": "2025-05-12T10:31:13.916207Z",
     "iopub.status.idle": "2025-05-12T10:31:13.919936Z",
     "shell.execute_reply": "2025-05-12T10:31:13.919392Z"
    },
    "papermill": {
     "duration": 0.007815,
     "end_time": "2025-05-12T10:31:13.920932",
     "exception": false,
     "start_time": "2025-05-12T10:31:13.913117",
     "status": "completed"
    },
    "tags": []
   },
   "outputs": [],
   "source": [
    "def load_and_preprocess_image(path):\n",
    "    img = tf.io.read_file(path)\n",
    "    img = tf.io.decode_jpeg(img, channels=3)\n",
    "    img = tf.image.convert_image_dtype(img, tf.float32)\n",
    "    img = tf.image.resize(img, [64, 64])\n",
    "    return img"
   ]
  },
  {
   "cell_type": "code",
   "execution_count": 5,
   "id": "5b5cc25d",
   "metadata": {
    "execution": {
     "iopub.execute_input": "2025-05-12T10:31:13.926928Z",
     "iopub.status.busy": "2025-05-12T10:31:13.926745Z",
     "iopub.status.idle": "2025-05-12T10:31:15.147266Z",
     "shell.execute_reply": "2025-05-12T10:31:15.146458Z"
    },
    "papermill": {
     "duration": 1.224817,
     "end_time": "2025-05-12T10:31:15.148509",
     "exception": false,
     "start_time": "2025-05-12T10:31:13.923692",
     "status": "completed"
    },
    "tags": []
   },
   "outputs": [
    {
     "name": "stderr",
     "output_type": "stream",
     "text": [
      "I0000 00:00:1747045875.052212      19 gpu_device.cc:2022] Created device /job:localhost/replica:0/task:0/device:GPU:0 with 13942 MB memory:  -> device: 0, name: Tesla T4, pci bus id: 0000:00:04.0, compute capability: 7.5\n",
      "I0000 00:00:1747045875.052894      19 gpu_device.cc:2022] Created device /job:localhost/replica:0/task:0/device:GPU:1 with 13942 MB memory:  -> device: 1, name: Tesla T4, pci bus id: 0000:00:05.0, compute capability: 7.5\n"
     ]
    }
   ],
   "source": [
    "list_ds = tf.data.Dataset.from_tensor_slices(images_path)\n",
    "\n",
    "\n",
    "list_ds = list_ds.map(load_and_preprocess_image, num_parallel_calls=tf.data.AUTOTUNE)\n",
    "final_ds = list_ds.shuffle(buffer_size=1000).batch(BATCH_SIZE).prefetch(tf.data.AUTOTUNE)"
   ]
  },
  {
   "cell_type": "markdown",
   "id": "9ca07072",
   "metadata": {
    "papermill": {
     "duration": 0.002546,
     "end_time": "2025-05-12T10:31:15.153915",
     "exception": false,
     "start_time": "2025-05-12T10:31:15.151369",
     "status": "completed"
    },
    "tags": []
   },
   "source": [
    "# Building Models"
   ]
  },
  {
   "cell_type": "code",
   "execution_count": 6,
   "id": "6a243045",
   "metadata": {
    "execution": {
     "iopub.execute_input": "2025-05-12T10:31:15.159874Z",
     "iopub.status.busy": "2025-05-12T10:31:15.159615Z",
     "iopub.status.idle": "2025-05-12T10:31:16.336379Z",
     "shell.execute_reply": "2025-05-12T10:31:16.335698Z"
    },
    "papermill": {
     "duration": 1.181022,
     "end_time": "2025-05-12T10:31:16.337555",
     "exception": false,
     "start_time": "2025-05-12T10:31:15.156533",
     "status": "completed"
    },
    "tags": []
   },
   "outputs": [
    {
     "name": "stderr",
     "output_type": "stream",
     "text": [
      "/usr/local/lib/python3.11/dist-packages/keras/src/layers/core/dense.py:87: UserWarning: Do not pass an `input_shape`/`input_dim` argument to a layer. When using Sequential models, prefer using an `Input(shape)` object as the first layer in the model instead.\n",
      "  super().__init__(activity_regularizer=activity_regularizer, **kwargs)\n"
     ]
    },
    {
     "data": {
      "text/html": [
       "<pre style=\"white-space:pre;overflow-x:auto;line-height:normal;font-family:Menlo,'DejaVu Sans Mono',consolas,'Courier New',monospace\"><span style=\"font-weight: bold\">Model: \"sequential\"</span>\n",
       "</pre>\n"
      ],
      "text/plain": [
       "\u001b[1mModel: \"sequential\"\u001b[0m\n"
      ]
     },
     "metadata": {},
     "output_type": "display_data"
    },
    {
     "data": {
      "text/html": [
       "<pre style=\"white-space:pre;overflow-x:auto;line-height:normal;font-family:Menlo,'DejaVu Sans Mono',consolas,'Courier New',monospace\">┏━━━━━━━━━━━━━━━━━━━━━━━━━━━━━━━━━━━━━━┳━━━━━━━━━━━━━━━━━━━━━━━━━━━━━┳━━━━━━━━━━━━━━━━━┓\n",
       "┃<span style=\"font-weight: bold\"> Layer (type)                         </span>┃<span style=\"font-weight: bold\"> Output Shape                </span>┃<span style=\"font-weight: bold\">         Param # </span>┃\n",
       "┡━━━━━━━━━━━━━━━━━━━━━━━━━━━━━━━━━━━━━━╇━━━━━━━━━━━━━━━━━━━━━━━━━━━━━╇━━━━━━━━━━━━━━━━━┩\n",
       "│ dense (<span style=\"color: #0087ff; text-decoration-color: #0087ff\">Dense</span>)                        │ (<span style=\"color: #00d7ff; text-decoration-color: #00d7ff\">None</span>, <span style=\"color: #00af00; text-decoration-color: #00af00\">16384</span>)               │       <span style=\"color: #00af00; text-decoration-color: #00af00\">1,638,400</span> │\n",
       "├──────────────────────────────────────┼─────────────────────────────┼─────────────────┤\n",
       "│ batch_normalization                  │ (<span style=\"color: #00d7ff; text-decoration-color: #00d7ff\">None</span>, <span style=\"color: #00af00; text-decoration-color: #00af00\">16384</span>)               │          <span style=\"color: #00af00; text-decoration-color: #00af00\">65,536</span> │\n",
       "│ (<span style=\"color: #0087ff; text-decoration-color: #0087ff\">BatchNormalization</span>)                 │                             │                 │\n",
       "├──────────────────────────────────────┼─────────────────────────────┼─────────────────┤\n",
       "│ leaky_re_lu (<span style=\"color: #0087ff; text-decoration-color: #0087ff\">LeakyReLU</span>)              │ (<span style=\"color: #00d7ff; text-decoration-color: #00d7ff\">None</span>, <span style=\"color: #00af00; text-decoration-color: #00af00\">16384</span>)               │               <span style=\"color: #00af00; text-decoration-color: #00af00\">0</span> │\n",
       "├──────────────────────────────────────┼─────────────────────────────┼─────────────────┤\n",
       "│ reshape (<span style=\"color: #0087ff; text-decoration-color: #0087ff\">Reshape</span>)                    │ (<span style=\"color: #00d7ff; text-decoration-color: #00d7ff\">None</span>, <span style=\"color: #00af00; text-decoration-color: #00af00\">8</span>, <span style=\"color: #00af00; text-decoration-color: #00af00\">8</span>, <span style=\"color: #00af00; text-decoration-color: #00af00\">256</span>)           │               <span style=\"color: #00af00; text-decoration-color: #00af00\">0</span> │\n",
       "├──────────────────────────────────────┼─────────────────────────────┼─────────────────┤\n",
       "│ conv2d_transpose (<span style=\"color: #0087ff; text-decoration-color: #0087ff\">Conv2DTranspose</span>)   │ (<span style=\"color: #00d7ff; text-decoration-color: #00d7ff\">None</span>, <span style=\"color: #00af00; text-decoration-color: #00af00\">16</span>, <span style=\"color: #00af00; text-decoration-color: #00af00\">16</span>, <span style=\"color: #00af00; text-decoration-color: #00af00\">128</span>)         │         <span style=\"color: #00af00; text-decoration-color: #00af00\">819,200</span> │\n",
       "├──────────────────────────────────────┼─────────────────────────────┼─────────────────┤\n",
       "│ batch_normalization_1                │ (<span style=\"color: #00d7ff; text-decoration-color: #00d7ff\">None</span>, <span style=\"color: #00af00; text-decoration-color: #00af00\">16</span>, <span style=\"color: #00af00; text-decoration-color: #00af00\">16</span>, <span style=\"color: #00af00; text-decoration-color: #00af00\">128</span>)         │             <span style=\"color: #00af00; text-decoration-color: #00af00\">512</span> │\n",
       "│ (<span style=\"color: #0087ff; text-decoration-color: #0087ff\">BatchNormalization</span>)                 │                             │                 │\n",
       "├──────────────────────────────────────┼─────────────────────────────┼─────────────────┤\n",
       "│ leaky_re_lu_1 (<span style=\"color: #0087ff; text-decoration-color: #0087ff\">LeakyReLU</span>)            │ (<span style=\"color: #00d7ff; text-decoration-color: #00d7ff\">None</span>, <span style=\"color: #00af00; text-decoration-color: #00af00\">16</span>, <span style=\"color: #00af00; text-decoration-color: #00af00\">16</span>, <span style=\"color: #00af00; text-decoration-color: #00af00\">128</span>)         │               <span style=\"color: #00af00; text-decoration-color: #00af00\">0</span> │\n",
       "├──────────────────────────────────────┼─────────────────────────────┼─────────────────┤\n",
       "│ conv2d_transpose_1 (<span style=\"color: #0087ff; text-decoration-color: #0087ff\">Conv2DTranspose</span>) │ (<span style=\"color: #00d7ff; text-decoration-color: #00d7ff\">None</span>, <span style=\"color: #00af00; text-decoration-color: #00af00\">32</span>, <span style=\"color: #00af00; text-decoration-color: #00af00\">32</span>, <span style=\"color: #00af00; text-decoration-color: #00af00\">64</span>)          │         <span style=\"color: #00af00; text-decoration-color: #00af00\">204,800</span> │\n",
       "├──────────────────────────────────────┼─────────────────────────────┼─────────────────┤\n",
       "│ batch_normalization_2                │ (<span style=\"color: #00d7ff; text-decoration-color: #00d7ff\">None</span>, <span style=\"color: #00af00; text-decoration-color: #00af00\">32</span>, <span style=\"color: #00af00; text-decoration-color: #00af00\">32</span>, <span style=\"color: #00af00; text-decoration-color: #00af00\">64</span>)          │             <span style=\"color: #00af00; text-decoration-color: #00af00\">256</span> │\n",
       "│ (<span style=\"color: #0087ff; text-decoration-color: #0087ff\">BatchNormalization</span>)                 │                             │                 │\n",
       "├──────────────────────────────────────┼─────────────────────────────┼─────────────────┤\n",
       "│ leaky_re_lu_2 (<span style=\"color: #0087ff; text-decoration-color: #0087ff\">LeakyReLU</span>)            │ (<span style=\"color: #00d7ff; text-decoration-color: #00d7ff\">None</span>, <span style=\"color: #00af00; text-decoration-color: #00af00\">32</span>, <span style=\"color: #00af00; text-decoration-color: #00af00\">32</span>, <span style=\"color: #00af00; text-decoration-color: #00af00\">64</span>)          │               <span style=\"color: #00af00; text-decoration-color: #00af00\">0</span> │\n",
       "├──────────────────────────────────────┼─────────────────────────────┼─────────────────┤\n",
       "│ conv2d_transpose_2 (<span style=\"color: #0087ff; text-decoration-color: #0087ff\">Conv2DTranspose</span>) │ (<span style=\"color: #00d7ff; text-decoration-color: #00d7ff\">None</span>, <span style=\"color: #00af00; text-decoration-color: #00af00\">64</span>, <span style=\"color: #00af00; text-decoration-color: #00af00\">64</span>, <span style=\"color: #00af00; text-decoration-color: #00af00\">3</span>)           │           <span style=\"color: #00af00; text-decoration-color: #00af00\">4,800</span> │\n",
       "└──────────────────────────────────────┴─────────────────────────────┴─────────────────┘\n",
       "</pre>\n"
      ],
      "text/plain": [
       "┏━━━━━━━━━━━━━━━━━━━━━━━━━━━━━━━━━━━━━━┳━━━━━━━━━━━━━━━━━━━━━━━━━━━━━┳━━━━━━━━━━━━━━━━━┓\n",
       "┃\u001b[1m \u001b[0m\u001b[1mLayer (type)                        \u001b[0m\u001b[1m \u001b[0m┃\u001b[1m \u001b[0m\u001b[1mOutput Shape               \u001b[0m\u001b[1m \u001b[0m┃\u001b[1m \u001b[0m\u001b[1m        Param #\u001b[0m\u001b[1m \u001b[0m┃\n",
       "┡━━━━━━━━━━━━━━━━━━━━━━━━━━━━━━━━━━━━━━╇━━━━━━━━━━━━━━━━━━━━━━━━━━━━━╇━━━━━━━━━━━━━━━━━┩\n",
       "│ dense (\u001b[38;5;33mDense\u001b[0m)                        │ (\u001b[38;5;45mNone\u001b[0m, \u001b[38;5;34m16384\u001b[0m)               │       \u001b[38;5;34m1,638,400\u001b[0m │\n",
       "├──────────────────────────────────────┼─────────────────────────────┼─────────────────┤\n",
       "│ batch_normalization                  │ (\u001b[38;5;45mNone\u001b[0m, \u001b[38;5;34m16384\u001b[0m)               │          \u001b[38;5;34m65,536\u001b[0m │\n",
       "│ (\u001b[38;5;33mBatchNormalization\u001b[0m)                 │                             │                 │\n",
       "├──────────────────────────────────────┼─────────────────────────────┼─────────────────┤\n",
       "│ leaky_re_lu (\u001b[38;5;33mLeakyReLU\u001b[0m)              │ (\u001b[38;5;45mNone\u001b[0m, \u001b[38;5;34m16384\u001b[0m)               │               \u001b[38;5;34m0\u001b[0m │\n",
       "├──────────────────────────────────────┼─────────────────────────────┼─────────────────┤\n",
       "│ reshape (\u001b[38;5;33mReshape\u001b[0m)                    │ (\u001b[38;5;45mNone\u001b[0m, \u001b[38;5;34m8\u001b[0m, \u001b[38;5;34m8\u001b[0m, \u001b[38;5;34m256\u001b[0m)           │               \u001b[38;5;34m0\u001b[0m │\n",
       "├──────────────────────────────────────┼─────────────────────────────┼─────────────────┤\n",
       "│ conv2d_transpose (\u001b[38;5;33mConv2DTranspose\u001b[0m)   │ (\u001b[38;5;45mNone\u001b[0m, \u001b[38;5;34m16\u001b[0m, \u001b[38;5;34m16\u001b[0m, \u001b[38;5;34m128\u001b[0m)         │         \u001b[38;5;34m819,200\u001b[0m │\n",
       "├──────────────────────────────────────┼─────────────────────────────┼─────────────────┤\n",
       "│ batch_normalization_1                │ (\u001b[38;5;45mNone\u001b[0m, \u001b[38;5;34m16\u001b[0m, \u001b[38;5;34m16\u001b[0m, \u001b[38;5;34m128\u001b[0m)         │             \u001b[38;5;34m512\u001b[0m │\n",
       "│ (\u001b[38;5;33mBatchNormalization\u001b[0m)                 │                             │                 │\n",
       "├──────────────────────────────────────┼─────────────────────────────┼─────────────────┤\n",
       "│ leaky_re_lu_1 (\u001b[38;5;33mLeakyReLU\u001b[0m)            │ (\u001b[38;5;45mNone\u001b[0m, \u001b[38;5;34m16\u001b[0m, \u001b[38;5;34m16\u001b[0m, \u001b[38;5;34m128\u001b[0m)         │               \u001b[38;5;34m0\u001b[0m │\n",
       "├──────────────────────────────────────┼─────────────────────────────┼─────────────────┤\n",
       "│ conv2d_transpose_1 (\u001b[38;5;33mConv2DTranspose\u001b[0m) │ (\u001b[38;5;45mNone\u001b[0m, \u001b[38;5;34m32\u001b[0m, \u001b[38;5;34m32\u001b[0m, \u001b[38;5;34m64\u001b[0m)          │         \u001b[38;5;34m204,800\u001b[0m │\n",
       "├──────────────────────────────────────┼─────────────────────────────┼─────────────────┤\n",
       "│ batch_normalization_2                │ (\u001b[38;5;45mNone\u001b[0m, \u001b[38;5;34m32\u001b[0m, \u001b[38;5;34m32\u001b[0m, \u001b[38;5;34m64\u001b[0m)          │             \u001b[38;5;34m256\u001b[0m │\n",
       "│ (\u001b[38;5;33mBatchNormalization\u001b[0m)                 │                             │                 │\n",
       "├──────────────────────────────────────┼─────────────────────────────┼─────────────────┤\n",
       "│ leaky_re_lu_2 (\u001b[38;5;33mLeakyReLU\u001b[0m)            │ (\u001b[38;5;45mNone\u001b[0m, \u001b[38;5;34m32\u001b[0m, \u001b[38;5;34m32\u001b[0m, \u001b[38;5;34m64\u001b[0m)          │               \u001b[38;5;34m0\u001b[0m │\n",
       "├──────────────────────────────────────┼─────────────────────────────┼─────────────────┤\n",
       "│ conv2d_transpose_2 (\u001b[38;5;33mConv2DTranspose\u001b[0m) │ (\u001b[38;5;45mNone\u001b[0m, \u001b[38;5;34m64\u001b[0m, \u001b[38;5;34m64\u001b[0m, \u001b[38;5;34m3\u001b[0m)           │           \u001b[38;5;34m4,800\u001b[0m │\n",
       "└──────────────────────────────────────┴─────────────────────────────┴─────────────────┘\n"
      ]
     },
     "metadata": {},
     "output_type": "display_data"
    },
    {
     "data": {
      "text/html": [
       "<pre style=\"white-space:pre;overflow-x:auto;line-height:normal;font-family:Menlo,'DejaVu Sans Mono',consolas,'Courier New',monospace\"><span style=\"font-weight: bold\"> Total params: </span><span style=\"color: #00af00; text-decoration-color: #00af00\">2,733,504</span> (10.43 MB)\n",
       "</pre>\n"
      ],
      "text/plain": [
       "\u001b[1m Total params: \u001b[0m\u001b[38;5;34m2,733,504\u001b[0m (10.43 MB)\n"
      ]
     },
     "metadata": {},
     "output_type": "display_data"
    },
    {
     "data": {
      "text/html": [
       "<pre style=\"white-space:pre;overflow-x:auto;line-height:normal;font-family:Menlo,'DejaVu Sans Mono',consolas,'Courier New',monospace\"><span style=\"font-weight: bold\"> Trainable params: </span><span style=\"color: #00af00; text-decoration-color: #00af00\">2,700,352</span> (10.30 MB)\n",
       "</pre>\n"
      ],
      "text/plain": [
       "\u001b[1m Trainable params: \u001b[0m\u001b[38;5;34m2,700,352\u001b[0m (10.30 MB)\n"
      ]
     },
     "metadata": {},
     "output_type": "display_data"
    },
    {
     "data": {
      "text/html": [
       "<pre style=\"white-space:pre;overflow-x:auto;line-height:normal;font-family:Menlo,'DejaVu Sans Mono',consolas,'Courier New',monospace\"><span style=\"font-weight: bold\"> Non-trainable params: </span><span style=\"color: #00af00; text-decoration-color: #00af00\">33,152</span> (129.50 KB)\n",
       "</pre>\n"
      ],
      "text/plain": [
       "\u001b[1m Non-trainable params: \u001b[0m\u001b[38;5;34m33,152\u001b[0m (129.50 KB)\n"
      ]
     },
     "metadata": {},
     "output_type": "display_data"
    }
   ],
   "source": [
    "def generator_model():\n",
    "    model = tf.keras.Sequential([\n",
    "        layers.Dense(8*8*256, use_bias=False, input_shape=(LATENT_DIM,)),\n",
    "        layers.BatchNormalization(),\n",
    "        layers.LeakyReLU(),\n",
    "        layers.Reshape((8, 8, 256)),\n",
    "        layers.Conv2DTranspose(128, (5, 5), strides=2, padding=\"same\", use_bias=False),\n",
    "        layers.BatchNormalization(),\n",
    "        layers.LeakyReLU(),\n",
    "        layers.Conv2DTranspose(64, (5, 5), strides=2, padding=\"same\", use_bias=False),\n",
    "        layers.BatchNormalization(),\n",
    "        layers.LeakyReLU(),\n",
    "        layers.Conv2DTranspose(3, (5, 5), strides=2, padding=\"same\", use_bias=False, activation=\"tanh\")\n",
    "    ])\n",
    "    return model\n",
    "    \n",
    "generator = generator_model()\n",
    "generator.summary()"
   ]
  },
  {
   "cell_type": "code",
   "execution_count": 7,
   "id": "a97cb59e",
   "metadata": {
    "execution": {
     "iopub.execute_input": "2025-05-12T10:31:16.345377Z",
     "iopub.status.busy": "2025-05-12T10:31:16.344976Z",
     "iopub.status.idle": "2025-05-12T10:31:16.400468Z",
     "shell.execute_reply": "2025-05-12T10:31:16.399956Z"
    },
    "papermill": {
     "duration": 0.060364,
     "end_time": "2025-05-12T10:31:16.401481",
     "exception": false,
     "start_time": "2025-05-12T10:31:16.341117",
     "status": "completed"
    },
    "tags": []
   },
   "outputs": [
    {
     "name": "stderr",
     "output_type": "stream",
     "text": [
      "/usr/local/lib/python3.11/dist-packages/keras/src/layers/convolutional/base_conv.py:107: UserWarning: Do not pass an `input_shape`/`input_dim` argument to a layer. When using Sequential models, prefer using an `Input(shape)` object as the first layer in the model instead.\n",
      "  super().__init__(activity_regularizer=activity_regularizer, **kwargs)\n"
     ]
    },
    {
     "data": {
      "text/html": [
       "<pre style=\"white-space:pre;overflow-x:auto;line-height:normal;font-family:Menlo,'DejaVu Sans Mono',consolas,'Courier New',monospace\"><span style=\"font-weight: bold\">Model: \"sequential_1\"</span>\n",
       "</pre>\n"
      ],
      "text/plain": [
       "\u001b[1mModel: \"sequential_1\"\u001b[0m\n"
      ]
     },
     "metadata": {},
     "output_type": "display_data"
    },
    {
     "data": {
      "text/html": [
       "<pre style=\"white-space:pre;overflow-x:auto;line-height:normal;font-family:Menlo,'DejaVu Sans Mono',consolas,'Courier New',monospace\">┏━━━━━━━━━━━━━━━━━━━━━━━━━━━━━━━━━━━━━━┳━━━━━━━━━━━━━━━━━━━━━━━━━━━━━┳━━━━━━━━━━━━━━━━━┓\n",
       "┃<span style=\"font-weight: bold\"> Layer (type)                         </span>┃<span style=\"font-weight: bold\"> Output Shape                </span>┃<span style=\"font-weight: bold\">         Param # </span>┃\n",
       "┡━━━━━━━━━━━━━━━━━━━━━━━━━━━━━━━━━━━━━━╇━━━━━━━━━━━━━━━━━━━━━━━━━━━━━╇━━━━━━━━━━━━━━━━━┩\n",
       "│ conv2d (<span style=\"color: #0087ff; text-decoration-color: #0087ff\">Conv2D</span>)                      │ (<span style=\"color: #00d7ff; text-decoration-color: #00d7ff\">None</span>, <span style=\"color: #00af00; text-decoration-color: #00af00\">32</span>, <span style=\"color: #00af00; text-decoration-color: #00af00\">32</span>, <span style=\"color: #00af00; text-decoration-color: #00af00\">64</span>)          │           <span style=\"color: #00af00; text-decoration-color: #00af00\">4,864</span> │\n",
       "├──────────────────────────────────────┼─────────────────────────────┼─────────────────┤\n",
       "│ leaky_re_lu_3 (<span style=\"color: #0087ff; text-decoration-color: #0087ff\">LeakyReLU</span>)            │ (<span style=\"color: #00d7ff; text-decoration-color: #00d7ff\">None</span>, <span style=\"color: #00af00; text-decoration-color: #00af00\">32</span>, <span style=\"color: #00af00; text-decoration-color: #00af00\">32</span>, <span style=\"color: #00af00; text-decoration-color: #00af00\">64</span>)          │               <span style=\"color: #00af00; text-decoration-color: #00af00\">0</span> │\n",
       "├──────────────────────────────────────┼─────────────────────────────┼─────────────────┤\n",
       "│ dropout (<span style=\"color: #0087ff; text-decoration-color: #0087ff\">Dropout</span>)                    │ (<span style=\"color: #00d7ff; text-decoration-color: #00d7ff\">None</span>, <span style=\"color: #00af00; text-decoration-color: #00af00\">32</span>, <span style=\"color: #00af00; text-decoration-color: #00af00\">32</span>, <span style=\"color: #00af00; text-decoration-color: #00af00\">64</span>)          │               <span style=\"color: #00af00; text-decoration-color: #00af00\">0</span> │\n",
       "├──────────────────────────────────────┼─────────────────────────────┼─────────────────┤\n",
       "│ conv2d_1 (<span style=\"color: #0087ff; text-decoration-color: #0087ff\">Conv2D</span>)                    │ (<span style=\"color: #00d7ff; text-decoration-color: #00d7ff\">None</span>, <span style=\"color: #00af00; text-decoration-color: #00af00\">16</span>, <span style=\"color: #00af00; text-decoration-color: #00af00\">16</span>, <span style=\"color: #00af00; text-decoration-color: #00af00\">128</span>)         │         <span style=\"color: #00af00; text-decoration-color: #00af00\">204,928</span> │\n",
       "├──────────────────────────────────────┼─────────────────────────────┼─────────────────┤\n",
       "│ leaky_re_lu_4 (<span style=\"color: #0087ff; text-decoration-color: #0087ff\">LeakyReLU</span>)            │ (<span style=\"color: #00d7ff; text-decoration-color: #00d7ff\">None</span>, <span style=\"color: #00af00; text-decoration-color: #00af00\">16</span>, <span style=\"color: #00af00; text-decoration-color: #00af00\">16</span>, <span style=\"color: #00af00; text-decoration-color: #00af00\">128</span>)         │               <span style=\"color: #00af00; text-decoration-color: #00af00\">0</span> │\n",
       "├──────────────────────────────────────┼─────────────────────────────┼─────────────────┤\n",
       "│ dropout_1 (<span style=\"color: #0087ff; text-decoration-color: #0087ff\">Dropout</span>)                  │ (<span style=\"color: #00d7ff; text-decoration-color: #00d7ff\">None</span>, <span style=\"color: #00af00; text-decoration-color: #00af00\">16</span>, <span style=\"color: #00af00; text-decoration-color: #00af00\">16</span>, <span style=\"color: #00af00; text-decoration-color: #00af00\">128</span>)         │               <span style=\"color: #00af00; text-decoration-color: #00af00\">0</span> │\n",
       "├──────────────────────────────────────┼─────────────────────────────┼─────────────────┤\n",
       "│ conv2d_2 (<span style=\"color: #0087ff; text-decoration-color: #0087ff\">Conv2D</span>)                    │ (<span style=\"color: #00d7ff; text-decoration-color: #00d7ff\">None</span>, <span style=\"color: #00af00; text-decoration-color: #00af00\">8</span>, <span style=\"color: #00af00; text-decoration-color: #00af00\">8</span>, <span style=\"color: #00af00; text-decoration-color: #00af00\">256</span>)           │         <span style=\"color: #00af00; text-decoration-color: #00af00\">819,456</span> │\n",
       "├──────────────────────────────────────┼─────────────────────────────┼─────────────────┤\n",
       "│ leaky_re_lu_5 (<span style=\"color: #0087ff; text-decoration-color: #0087ff\">LeakyReLU</span>)            │ (<span style=\"color: #00d7ff; text-decoration-color: #00d7ff\">None</span>, <span style=\"color: #00af00; text-decoration-color: #00af00\">8</span>, <span style=\"color: #00af00; text-decoration-color: #00af00\">8</span>, <span style=\"color: #00af00; text-decoration-color: #00af00\">256</span>)           │               <span style=\"color: #00af00; text-decoration-color: #00af00\">0</span> │\n",
       "├──────────────────────────────────────┼─────────────────────────────┼─────────────────┤\n",
       "│ dropout_2 (<span style=\"color: #0087ff; text-decoration-color: #0087ff\">Dropout</span>)                  │ (<span style=\"color: #00d7ff; text-decoration-color: #00d7ff\">None</span>, <span style=\"color: #00af00; text-decoration-color: #00af00\">8</span>, <span style=\"color: #00af00; text-decoration-color: #00af00\">8</span>, <span style=\"color: #00af00; text-decoration-color: #00af00\">256</span>)           │               <span style=\"color: #00af00; text-decoration-color: #00af00\">0</span> │\n",
       "├──────────────────────────────────────┼─────────────────────────────┼─────────────────┤\n",
       "│ flatten (<span style=\"color: #0087ff; text-decoration-color: #0087ff\">Flatten</span>)                    │ (<span style=\"color: #00d7ff; text-decoration-color: #00d7ff\">None</span>, <span style=\"color: #00af00; text-decoration-color: #00af00\">16384</span>)               │               <span style=\"color: #00af00; text-decoration-color: #00af00\">0</span> │\n",
       "├──────────────────────────────────────┼─────────────────────────────┼─────────────────┤\n",
       "│ dense_1 (<span style=\"color: #0087ff; text-decoration-color: #0087ff\">Dense</span>)                      │ (<span style=\"color: #00d7ff; text-decoration-color: #00d7ff\">None</span>, <span style=\"color: #00af00; text-decoration-color: #00af00\">1</span>)                   │          <span style=\"color: #00af00; text-decoration-color: #00af00\">16,385</span> │\n",
       "└──────────────────────────────────────┴─────────────────────────────┴─────────────────┘\n",
       "</pre>\n"
      ],
      "text/plain": [
       "┏━━━━━━━━━━━━━━━━━━━━━━━━━━━━━━━━━━━━━━┳━━━━━━━━━━━━━━━━━━━━━━━━━━━━━┳━━━━━━━━━━━━━━━━━┓\n",
       "┃\u001b[1m \u001b[0m\u001b[1mLayer (type)                        \u001b[0m\u001b[1m \u001b[0m┃\u001b[1m \u001b[0m\u001b[1mOutput Shape               \u001b[0m\u001b[1m \u001b[0m┃\u001b[1m \u001b[0m\u001b[1m        Param #\u001b[0m\u001b[1m \u001b[0m┃\n",
       "┡━━━━━━━━━━━━━━━━━━━━━━━━━━━━━━━━━━━━━━╇━━━━━━━━━━━━━━━━━━━━━━━━━━━━━╇━━━━━━━━━━━━━━━━━┩\n",
       "│ conv2d (\u001b[38;5;33mConv2D\u001b[0m)                      │ (\u001b[38;5;45mNone\u001b[0m, \u001b[38;5;34m32\u001b[0m, \u001b[38;5;34m32\u001b[0m, \u001b[38;5;34m64\u001b[0m)          │           \u001b[38;5;34m4,864\u001b[0m │\n",
       "├──────────────────────────────────────┼─────────────────────────────┼─────────────────┤\n",
       "│ leaky_re_lu_3 (\u001b[38;5;33mLeakyReLU\u001b[0m)            │ (\u001b[38;5;45mNone\u001b[0m, \u001b[38;5;34m32\u001b[0m, \u001b[38;5;34m32\u001b[0m, \u001b[38;5;34m64\u001b[0m)          │               \u001b[38;5;34m0\u001b[0m │\n",
       "├──────────────────────────────────────┼─────────────────────────────┼─────────────────┤\n",
       "│ dropout (\u001b[38;5;33mDropout\u001b[0m)                    │ (\u001b[38;5;45mNone\u001b[0m, \u001b[38;5;34m32\u001b[0m, \u001b[38;5;34m32\u001b[0m, \u001b[38;5;34m64\u001b[0m)          │               \u001b[38;5;34m0\u001b[0m │\n",
       "├──────────────────────────────────────┼─────────────────────────────┼─────────────────┤\n",
       "│ conv2d_1 (\u001b[38;5;33mConv2D\u001b[0m)                    │ (\u001b[38;5;45mNone\u001b[0m, \u001b[38;5;34m16\u001b[0m, \u001b[38;5;34m16\u001b[0m, \u001b[38;5;34m128\u001b[0m)         │         \u001b[38;5;34m204,928\u001b[0m │\n",
       "├──────────────────────────────────────┼─────────────────────────────┼─────────────────┤\n",
       "│ leaky_re_lu_4 (\u001b[38;5;33mLeakyReLU\u001b[0m)            │ (\u001b[38;5;45mNone\u001b[0m, \u001b[38;5;34m16\u001b[0m, \u001b[38;5;34m16\u001b[0m, \u001b[38;5;34m128\u001b[0m)         │               \u001b[38;5;34m0\u001b[0m │\n",
       "├──────────────────────────────────────┼─────────────────────────────┼─────────────────┤\n",
       "│ dropout_1 (\u001b[38;5;33mDropout\u001b[0m)                  │ (\u001b[38;5;45mNone\u001b[0m, \u001b[38;5;34m16\u001b[0m, \u001b[38;5;34m16\u001b[0m, \u001b[38;5;34m128\u001b[0m)         │               \u001b[38;5;34m0\u001b[0m │\n",
       "├──────────────────────────────────────┼─────────────────────────────┼─────────────────┤\n",
       "│ conv2d_2 (\u001b[38;5;33mConv2D\u001b[0m)                    │ (\u001b[38;5;45mNone\u001b[0m, \u001b[38;5;34m8\u001b[0m, \u001b[38;5;34m8\u001b[0m, \u001b[38;5;34m256\u001b[0m)           │         \u001b[38;5;34m819,456\u001b[0m │\n",
       "├──────────────────────────────────────┼─────────────────────────────┼─────────────────┤\n",
       "│ leaky_re_lu_5 (\u001b[38;5;33mLeakyReLU\u001b[0m)            │ (\u001b[38;5;45mNone\u001b[0m, \u001b[38;5;34m8\u001b[0m, \u001b[38;5;34m8\u001b[0m, \u001b[38;5;34m256\u001b[0m)           │               \u001b[38;5;34m0\u001b[0m │\n",
       "├──────────────────────────────────────┼─────────────────────────────┼─────────────────┤\n",
       "│ dropout_2 (\u001b[38;5;33mDropout\u001b[0m)                  │ (\u001b[38;5;45mNone\u001b[0m, \u001b[38;5;34m8\u001b[0m, \u001b[38;5;34m8\u001b[0m, \u001b[38;5;34m256\u001b[0m)           │               \u001b[38;5;34m0\u001b[0m │\n",
       "├──────────────────────────────────────┼─────────────────────────────┼─────────────────┤\n",
       "│ flatten (\u001b[38;5;33mFlatten\u001b[0m)                    │ (\u001b[38;5;45mNone\u001b[0m, \u001b[38;5;34m16384\u001b[0m)               │               \u001b[38;5;34m0\u001b[0m │\n",
       "├──────────────────────────────────────┼─────────────────────────────┼─────────────────┤\n",
       "│ dense_1 (\u001b[38;5;33mDense\u001b[0m)                      │ (\u001b[38;5;45mNone\u001b[0m, \u001b[38;5;34m1\u001b[0m)                   │          \u001b[38;5;34m16,385\u001b[0m │\n",
       "└──────────────────────────────────────┴─────────────────────────────┴─────────────────┘\n"
      ]
     },
     "metadata": {},
     "output_type": "display_data"
    },
    {
     "data": {
      "text/html": [
       "<pre style=\"white-space:pre;overflow-x:auto;line-height:normal;font-family:Menlo,'DejaVu Sans Mono',consolas,'Courier New',monospace\"><span style=\"font-weight: bold\"> Total params: </span><span style=\"color: #00af00; text-decoration-color: #00af00\">1,045,633</span> (3.99 MB)\n",
       "</pre>\n"
      ],
      "text/plain": [
       "\u001b[1m Total params: \u001b[0m\u001b[38;5;34m1,045,633\u001b[0m (3.99 MB)\n"
      ]
     },
     "metadata": {},
     "output_type": "display_data"
    },
    {
     "data": {
      "text/html": [
       "<pre style=\"white-space:pre;overflow-x:auto;line-height:normal;font-family:Menlo,'DejaVu Sans Mono',consolas,'Courier New',monospace\"><span style=\"font-weight: bold\"> Trainable params: </span><span style=\"color: #00af00; text-decoration-color: #00af00\">1,045,633</span> (3.99 MB)\n",
       "</pre>\n"
      ],
      "text/plain": [
       "\u001b[1m Trainable params: \u001b[0m\u001b[38;5;34m1,045,633\u001b[0m (3.99 MB)\n"
      ]
     },
     "metadata": {},
     "output_type": "display_data"
    },
    {
     "data": {
      "text/html": [
       "<pre style=\"white-space:pre;overflow-x:auto;line-height:normal;font-family:Menlo,'DejaVu Sans Mono',consolas,'Courier New',monospace\"><span style=\"font-weight: bold\"> Non-trainable params: </span><span style=\"color: #00af00; text-decoration-color: #00af00\">0</span> (0.00 B)\n",
       "</pre>\n"
      ],
      "text/plain": [
       "\u001b[1m Non-trainable params: \u001b[0m\u001b[38;5;34m0\u001b[0m (0.00 B)\n"
      ]
     },
     "metadata": {},
     "output_type": "display_data"
    }
   ],
   "source": [
    "def discriminator_model():\n",
    "    model = tf.keras.Sequential([\n",
    "        layers.Conv2D(64, (5, 5), strides=2, input_shape=(64, 64, 3), padding=\"same\"),\n",
    "        layers.LeakyReLU(),\n",
    "        layers.Dropout(0.3),\n",
    "        layers.Conv2D(128, (5, 5), strides=2, padding=\"same\"),\n",
    "        layers.LeakyReLU(),\n",
    "        layers.Dropout(0.3),\n",
    "        layers.Conv2D(256, (5, 5), strides=2, padding=\"same\"),\n",
    "        layers.LeakyReLU(),\n",
    "        layers.Dropout(0.3),\n",
    "        layers.Flatten(),\n",
    "        layers.Dense(1)\n",
    "    ])\n",
    "    return model\n",
    "\n",
    "discriminator = discriminator_model()\n",
    "discriminator.summary()"
   ]
  },
  {
   "cell_type": "code",
   "execution_count": 8,
   "id": "a318bf76",
   "metadata": {
    "execution": {
     "iopub.execute_input": "2025-05-12T10:31:16.410191Z",
     "iopub.status.busy": "2025-05-12T10:31:16.409730Z",
     "iopub.status.idle": "2025-05-12T10:31:16.412913Z",
     "shell.execute_reply": "2025-05-12T10:31:16.412414Z"
    },
    "papermill": {
     "duration": 0.008637,
     "end_time": "2025-05-12T10:31:16.414012",
     "exception": false,
     "start_time": "2025-05-12T10:31:16.405375",
     "status": "completed"
    },
    "tags": []
   },
   "outputs": [],
   "source": [
    "binary_crossentropy = tf.keras.losses.BinaryCrossentropy(from_logits=True)"
   ]
  },
  {
   "cell_type": "code",
   "execution_count": 9,
   "id": "e3ea7922",
   "metadata": {
    "execution": {
     "iopub.execute_input": "2025-05-12T10:31:16.422179Z",
     "iopub.status.busy": "2025-05-12T10:31:16.421906Z",
     "iopub.status.idle": "2025-05-12T10:31:16.425556Z",
     "shell.execute_reply": "2025-05-12T10:31:16.425010Z"
    },
    "papermill": {
     "duration": 0.008841,
     "end_time": "2025-05-12T10:31:16.426564",
     "exception": false,
     "start_time": "2025-05-12T10:31:16.417723",
     "status": "completed"
    },
    "tags": []
   },
   "outputs": [],
   "source": [
    "def discriminator_loss(real_output, fake_output):\n",
    "    real_loss = binary_crossentropy(tf.ones_like(real_output), real_output)\n",
    "    fake_loss = binary_crossentropy(tf.zeros_like(fake_output), fake_output)\n",
    "    return real_loss + fake_loss\n",
    "def generator_loss(fake_output):\n",
    "    fake_loss = binary_crossentropy(tf.ones_like(fake_output), fake_output)\n",
    "    return fake_loss"
   ]
  },
  {
   "cell_type": "code",
   "execution_count": 10,
   "id": "dd555e65",
   "metadata": {
    "execution": {
     "iopub.execute_input": "2025-05-12T10:31:16.434409Z",
     "iopub.status.busy": "2025-05-12T10:31:16.434236Z",
     "iopub.status.idle": "2025-05-12T10:31:16.442541Z",
     "shell.execute_reply": "2025-05-12T10:31:16.442056Z"
    },
    "papermill": {
     "duration": 0.013403,
     "end_time": "2025-05-12T10:31:16.443570",
     "exception": false,
     "start_time": "2025-05-12T10:31:16.430167",
     "status": "completed"
    },
    "tags": []
   },
   "outputs": [],
   "source": [
    "generator_optim = tf.keras.optimizers.Adam(1e-4)\n",
    "discriminator_optim = tf.keras.optimizers.Adam(1e-4)"
   ]
  },
  {
   "cell_type": "code",
   "execution_count": 11,
   "id": "af7d05af",
   "metadata": {
    "execution": {
     "iopub.execute_input": "2025-05-12T10:31:16.451531Z",
     "iopub.status.busy": "2025-05-12T10:31:16.451357Z",
     "iopub.status.idle": "2025-05-12T10:31:16.456176Z",
     "shell.execute_reply": "2025-05-12T10:31:16.455514Z"
    },
    "papermill": {
     "duration": 0.009991,
     "end_time": "2025-05-12T10:31:16.457174",
     "exception": false,
     "start_time": "2025-05-12T10:31:16.447183",
     "status": "completed"
    },
    "tags": []
   },
   "outputs": [],
   "source": [
    "@tf.function\n",
    "def train_step(images):\n",
    "    noise = tf.random.normal([BATCH_SIZE, LATENT_DIM])\n",
    "\n",
    "    with tf.GradientTape() as gen_tape, tf.GradientTape() as disc_tape:\n",
    "        gen_image = generator(noise, training=True)\n",
    "\n",
    "        real_output = discriminator(images, training=True)\n",
    "        fake_output = discriminator(gen_image, training=True)\n",
    "\n",
    "        gen_loss = generator_loss(fake_output)\n",
    "        disc_loss = discriminator_loss(real_output, fake_output)\n",
    "\n",
    "        gen_grads = gen_tape.gradient(gen_loss, generator.trainable_variables)\n",
    "        disc_grads = disc_tape.gradient(disc_loss, discriminator.trainable_variables)\n",
    "\n",
    "    generator_optim.apply_gradients(zip(gen_grads, generator.trainable_variables))\n",
    "    discriminator_optim.apply_gradients(zip(disc_grads, discriminator.trainable_variables))\n",
    "\n"
   ]
  },
  {
   "cell_type": "code",
   "execution_count": 12,
   "id": "b267aedc",
   "metadata": {
    "execution": {
     "iopub.execute_input": "2025-05-12T10:31:16.465285Z",
     "iopub.status.busy": "2025-05-12T10:31:16.465098Z",
     "iopub.status.idle": "2025-05-12T10:31:17.451471Z",
     "shell.execute_reply": "2025-05-12T10:31:17.450631Z"
    },
    "papermill": {
     "duration": 0.991757,
     "end_time": "2025-05-12T10:31:17.452698",
     "exception": false,
     "start_time": "2025-05-12T10:31:16.460941",
     "status": "completed"
    },
    "tags": []
   },
   "outputs": [
    {
     "name": "stderr",
     "output_type": "stream",
     "text": [
      "I0000 00:00:1747045876.671007      19 cuda_dnn.cc:529] Loaded cuDNN version 90300\n"
     ]
    },
    {
     "data": {
      "text/plain": [
       "<matplotlib.image.AxesImage at 0x7962150f66d0>"
      ]
     },
     "execution_count": 12,
     "metadata": {},
     "output_type": "execute_result"
    },
    {
     "data": {
      "image/png": "[encoded data removed]",
      "text/plain": [
       "<Figure size 640x480 with 1 Axes>"
      ]
     },
     "metadata": {},
     "output_type": "display_data"
    }
   ],
   "source": [
    "out = generator(tf.random.normal([BATCH_SIZE, LATENT_DIM]))\n",
    "plt.imshow((out[0] + 1)/2)"
   ]
  },
  {
   "cell_type": "code",
   "execution_count": 13,
   "id": "4aa0b7ab",
   "metadata": {
    "execution": {
     "iopub.execute_input": "2025-05-12T10:31:17.462531Z",
     "iopub.status.busy": "2025-05-12T10:31:17.462312Z",
     "iopub.status.idle": "2025-05-12T13:42:06.920529Z",
     "shell.execute_reply": "2025-05-12T13:42:06.919791Z"
    },
    "papermill": {
     "duration": 11449.464459,
     "end_time": "2025-05-12T13:42:06.921814",
     "exception": false,
     "start_time": "2025-05-12T10:31:17.457355",
     "status": "completed"
    },
    "tags": []
   },
   "outputs": [
    {
     "name": "stderr",
     "output_type": "stream",
     "text": [
      "Training epoch: 1:   0%|          | 0/313 [00:00<?, ?it/s]E0000 00:00:1747045884.962868      19 meta_optimizer.cc:966] layout failed: INVALID_ARGUMENT: Size of values 0 does not match size of permutation 4 @ fanin shape insequential_1_2/dropout_1/stateless_dropout/SelectV2-2-TransposeNHWCToNCHW-LayoutOptimizer\n",
      "Training epoch: 1: 100%|██████████| 313/313 [00:44<00:00,  7.07it/s]\n"
     ]
    },
    {
     "data": {
      "image/png": "[encoded data removed]",
      "text/plain": [
       "<Figure size 640x480 with 1 Axes>"
      ]
     },
     "metadata": {},
     "output_type": "display_data"
    },
    {
     "name": "stderr",
     "output_type": "stream",
     "text": [
      "Training epoch: 2: 100%|██████████| 313/313 [00:22<00:00, 13.78it/s]\n",
      "Training epoch: 3: 100%|██████████| 313/313 [00:22<00:00, 14.09it/s]\n",
      "Training epoch: 4: 100%|██████████| 313/313 [00:22<00:00, 13.81it/s]\n",
      "Training epoch: 5: 100%|██████████| 313/313 [00:22<00:00, 13.80it/s]\n",
      "Training epoch: 6: 100%|██████████| 313/313 [00:22<00:00, 13.82it/s]\n",
      "Training epoch: 7: 100%|██████████| 313/313 [00:22<00:00, 13.79it/s]\n",
      "Training epoch: 8: 100%|██████████| 313/313 [00:22<00:00, 13.72it/s]\n",
      "Training epoch: 9: 100%|██████████| 313/313 [00:40<00:00,  7.64it/s]\n",
      "Training epoch: 10: 100%|██████████| 313/313 [00:22<00:00, 13.92it/s]\n"
     ]
    },
    {
     "data": {
      "image/png": "[encoded data removed]",
      "text/plain": [
       "<Figure size 640x480 with 1 Axes>"
      ]
     },
     "metadata": {},
     "output_type": "display_data"
    },
    {
     "name": "stderr",
     "output_type": "stream",
     "text": [
      "Training epoch: 11: 100%|██████████| 313/313 [00:22<00:00, 14.11it/s]\n",
      "Training epoch: 12: 100%|██████████| 313/313 [00:22<00:00, 14.09it/s]\n",
      "Training epoch: 13: 100%|██████████| 313/313 [00:22<00:00, 13.84it/s]\n",
      "Training epoch: 14: 100%|██████████| 313/313 [00:22<00:00, 14.05it/s]\n",
      "Training epoch: 15: 100%|██████████| 313/313 [00:22<00:00, 14.16it/s]\n",
      "Training epoch: 16: 100%|██████████| 313/313 [00:22<00:00, 13.85it/s]\n",
      "Training epoch: 17: 100%|██████████| 313/313 [00:22<00:00, 13.91it/s]\n",
      "Training epoch: 18: 100%|██████████| 313/313 [00:22<00:00, 14.08it/s]\n",
      "Training epoch: 19: 100%|██████████| 313/313 [00:22<00:00, 13.79it/s]\n",
      "Training epoch: 20: 100%|██████████| 313/313 [00:22<00:00, 13.83it/s]\n",
      "Training epoch: 21: 100%|██████████| 313/313 [00:22<00:00, 14.08it/s]\n",
      "Training epoch: 22: 100%|██████████| 313/313 [00:22<00:00, 13.90it/s]\n",
      "Training epoch: 23: 100%|██████████| 313/313 [00:22<00:00, 13.86it/s]\n",
      "Training epoch: 24: 100%|██████████| 313/313 [00:22<00:00, 14.12it/s]\n",
      "Training epoch: 25: 100%|██████████| 313/313 [00:22<00:00, 14.20it/s]\n",
      "Training epoch: 26: 100%|██████████| 313/313 [00:22<00:00, 13.89it/s]\n",
      "Training epoch: 27: 100%|██████████| 313/313 [00:22<00:00, 13.83it/s]\n",
      "Training epoch: 28: 100%|██████████| 313/313 [00:22<00:00, 14.20it/s]\n",
      "Training epoch: 29: 100%|██████████| 313/313 [00:22<00:00, 13.81it/s]\n",
      "Training epoch: 30: 100%|██████████| 313/313 [00:22<00:00, 13.92it/s]\n",
      "Training epoch: 31: 100%|██████████| 313/313 [00:22<00:00, 14.06it/s]\n",
      "Training epoch: 32: 100%|██████████| 313/313 [00:22<00:00, 13.88it/s]\n",
      "Training epoch: 33: 100%|██████████| 313/313 [00:22<00:00, 13.85it/s]\n",
      "Training epoch: 34: 100%|██████████| 313/313 [00:22<00:00, 13.93it/s]\n",
      "Training epoch: 35: 100%|██████████| 313/313 [00:22<00:00, 13.89it/s]\n",
      "Training epoch: 36: 100%|██████████| 313/313 [00:22<00:00, 13.84it/s]\n",
      "Training epoch: 37: 100%|██████████| 313/313 [00:22<00:00, 13.72it/s]\n",
      "Training epoch: 38: 100%|██████████| 313/313 [00:22<00:00, 14.12it/s]\n",
      "Training epoch: 39: 100%|██████████| 313/313 [00:22<00:00, 13.76it/s]\n",
      "Training epoch: 40: 100%|██████████| 313/313 [00:22<00:00, 13.87it/s]\n",
      "Training epoch: 41: 100%|██████████| 313/313 [00:22<00:00, 14.12it/s]\n",
      "Training epoch: 42: 100%|██████████| 313/313 [00:22<00:00, 13.74it/s]\n",
      "Training epoch: 43: 100%|██████████| 313/313 [00:22<00:00, 13.75it/s]\n",
      "Training epoch: 44: 100%|██████████| 313/313 [00:22<00:00, 13.97it/s]\n",
      "Training epoch: 45: 100%|██████████| 313/313 [00:22<00:00, 13.91it/s]\n",
      "Training epoch: 46: 100%|██████████| 313/313 [00:22<00:00, 13.80it/s]\n",
      "Training epoch: 47: 100%|██████████| 313/313 [00:22<00:00, 13.91it/s]\n",
      "Training epoch: 48: 100%|██████████| 313/313 [00:22<00:00, 14.05it/s]\n",
      "Training epoch: 49: 100%|██████████| 313/313 [00:22<00:00, 13.82it/s]\n",
      "Training epoch: 50: 100%|██████████| 313/313 [00:22<00:00, 13.80it/s]\n",
      "Training epoch: 51: 100%|██████████| 313/313 [00:22<00:00, 14.03it/s]\n",
      "Training epoch: 52: 100%|██████████| 313/313 [00:22<00:00, 14.00it/s]\n",
      "Training epoch: 53: 100%|██████████| 313/313 [00:22<00:00, 13.78it/s]\n",
      "Training epoch: 54: 100%|██████████| 313/313 [00:22<00:00, 14.04it/s]\n",
      "Training epoch: 55: 100%|██████████| 313/313 [00:22<00:00, 14.13it/s]\n",
      "Training epoch: 56: 100%|██████████| 313/313 [00:23<00:00, 13.56it/s]\n",
      "Training epoch: 57: 100%|██████████| 313/313 [00:22<00:00, 13.91it/s]\n",
      "Training epoch: 58: 100%|██████████| 313/313 [00:22<00:00, 14.09it/s]\n",
      "Training epoch: 59: 100%|██████████| 313/313 [00:22<00:00, 13.75it/s]\n",
      "Training epoch: 60: 100%|██████████| 313/313 [00:22<00:00, 13.82it/s]\n",
      "Training epoch: 61: 100%|██████████| 313/313 [00:22<00:00, 13.96it/s]\n",
      "Training epoch: 62: 100%|██████████| 313/313 [00:22<00:00, 13.99it/s]\n",
      "Training epoch: 63: 100%|██████████| 313/313 [00:22<00:00, 13.91it/s]\n",
      "Training epoch: 64: 100%|██████████| 313/313 [00:23<00:00, 13.61it/s]\n",
      "Training epoch: 65: 100%|██████████| 313/313 [00:22<00:00, 13.95it/s]\n",
      "Training epoch: 66: 100%|██████████| 313/313 [00:22<00:00, 13.75it/s]\n",
      "Training epoch: 67: 100%|██████████| 313/313 [00:22<00:00, 13.81it/s]\n",
      "Training epoch: 68: 100%|██████████| 313/313 [00:22<00:00, 13.92it/s]\n",
      "Training epoch: 69: 100%|██████████| 313/313 [00:22<00:00, 13.73it/s]\n",
      "Training epoch: 70: 100%|██████████| 313/313 [00:22<00:00, 13.90it/s]\n",
      "Training epoch: 71: 100%|██████████| 313/313 [00:22<00:00, 13.99it/s]\n",
      "Training epoch: 72: 100%|██████████| 313/313 [00:22<00:00, 13.72it/s]\n",
      "Training epoch: 73: 100%|██████████| 313/313 [00:22<00:00, 13.82it/s]\n",
      "Training epoch: 74: 100%|██████████| 313/313 [00:22<00:00, 13.81it/s]\n",
      "Training epoch: 75: 100%|██████████| 313/313 [00:22<00:00, 13.94it/s]\n",
      "Training epoch: 76: 100%|██████████| 313/313 [00:22<00:00, 13.84it/s]\n",
      "Training epoch: 77: 100%|██████████| 313/313 [00:22<00:00, 13.88it/s]\n",
      "Training epoch: 78: 100%|██████████| 313/313 [00:22<00:00, 14.07it/s]\n",
      "Training epoch: 79: 100%|██████████| 313/313 [00:22<00:00, 13.77it/s]\n",
      "Training epoch: 80: 100%|██████████| 313/313 [00:22<00:00, 13.79it/s]\n",
      "Training epoch: 81: 100%|██████████| 313/313 [00:22<00:00, 14.13it/s]\n",
      "Training epoch: 82: 100%|██████████| 313/313 [00:22<00:00, 13.67it/s]\n",
      "Training epoch: 83: 100%|██████████| 313/313 [00:22<00:00, 13.64it/s]\n",
      "Training epoch: 84: 100%|██████████| 313/313 [00:22<00:00, 13.83it/s]\n",
      "Training epoch: 85: 100%|██████████| 313/313 [00:22<00:00, 14.00it/s]\n",
      "Training epoch: 86: 100%|██████████| 313/313 [00:22<00:00, 13.86it/s]\n",
      "Training epoch: 87: 100%|██████████| 313/313 [00:22<00:00, 13.83it/s]\n",
      "Training epoch: 88: 100%|██████████| 313/313 [00:22<00:00, 14.11it/s]\n",
      "Training epoch: 89: 100%|██████████| 313/313 [00:22<00:00, 13.81it/s]\n",
      "Training epoch: 90: 100%|██████████| 313/313 [00:22<00:00, 13.65it/s]\n",
      "Training epoch: 91: 100%|██████████| 313/313 [00:22<00:00, 13.82it/s]\n",
      "Training epoch: 92: 100%|██████████| 313/313 [00:22<00:00, 14.11it/s]\n",
      "Training epoch: 93: 100%|██████████| 313/313 [00:22<00:00, 13.71it/s]\n",
      "Training epoch: 94: 100%|██████████| 313/313 [00:22<00:00, 13.84it/s]\n",
      "Training epoch: 95: 100%|██████████| 313/313 [00:22<00:00, 14.07it/s]\n",
      "Training epoch: 96: 100%|██████████| 313/313 [00:22<00:00, 13.85it/s]\n",
      "Training epoch: 97: 100%|██████████| 313/313 [00:22<00:00, 13.93it/s]\n",
      "Training epoch: 98: 100%|██████████| 313/313 [00:22<00:00, 13.96it/s]\n",
      "Training epoch: 99: 100%|██████████| 313/313 [00:22<00:00, 13.92it/s]\n",
      "Training epoch: 100: 100%|██████████| 313/313 [00:22<00:00, 13.83it/s]\n"
     ]
    },
    {
     "data": {
      "image/png": "[encoded data removed]",
      "text/plain": [
       "<Figure size 640x480 with 1 Axes>"
      ]
     },
     "metadata": {},
     "output_type": "display_data"
    },
    {
     "name": "stderr",
     "output_type": "stream",
     "text": [
      "Training epoch: 101: 100%|██████████| 313/313 [00:22<00:00, 13.87it/s]\n",
      "Training epoch: 102: 100%|██████████| 313/313 [00:22<00:00, 14.04it/s]\n",
      "Training epoch: 103: 100%|██████████| 313/313 [00:22<00:00, 13.89it/s]\n",
      "Training epoch: 104: 100%|██████████| 313/313 [00:22<00:00, 13.67it/s]\n",
      "Training epoch: 105: 100%|██████████| 313/313 [00:22<00:00, 13.76it/s]\n",
      "Training epoch: 106: 100%|██████████| 313/313 [00:23<00:00, 13.53it/s]\n",
      "Training epoch: 107: 100%|██████████| 313/313 [00:22<00:00, 13.66it/s]\n",
      "Training epoch: 108: 100%|██████████| 313/313 [00:22<00:00, 13.88it/s]\n",
      "Training epoch: 109: 100%|██████████| 313/313 [00:22<00:00, 13.72it/s]\n",
      "Training epoch: 110: 100%|██████████| 313/313 [00:22<00:00, 14.04it/s]\n",
      "Training epoch: 111: 100%|██████████| 313/313 [00:22<00:00, 13.70it/s]\n",
      "Training epoch: 112: 100%|██████████| 313/313 [00:22<00:00, 13.87it/s]\n",
      "Training epoch: 113: 100%|██████████| 313/313 [00:22<00:00, 13.80it/s]\n",
      "Training epoch: 114: 100%|██████████| 313/313 [00:22<00:00, 13.83it/s]\n",
      "Training epoch: 115: 100%|██████████| 313/313 [00:22<00:00, 13.88it/s]\n",
      "Training epoch: 116: 100%|██████████| 313/313 [00:22<00:00, 13.79it/s]\n",
      "Training epoch: 117: 100%|██████████| 313/313 [00:22<00:00, 13.94it/s]\n",
      "Training epoch: 118: 100%|██████████| 313/313 [00:22<00:00, 14.06it/s]\n",
      "Training epoch: 119: 100%|██████████| 313/313 [00:22<00:00, 13.94it/s]\n",
      "Training epoch: 120: 100%|██████████| 313/313 [00:22<00:00, 13.82it/s]\n",
      "Training epoch: 121: 100%|██████████| 313/313 [00:22<00:00, 14.02it/s]\n",
      "Training epoch: 122: 100%|██████████| 313/313 [00:22<00:00, 14.05it/s]\n",
      "Training epoch: 123: 100%|██████████| 313/313 [00:22<00:00, 13.75it/s]\n",
      "Training epoch: 124: 100%|██████████| 313/313 [00:22<00:00, 13.87it/s]\n",
      "Training epoch: 125: 100%|██████████| 313/313 [00:22<00:00, 13.85it/s]\n",
      "Training epoch: 126: 100%|██████████| 313/313 [00:22<00:00, 13.72it/s]\n",
      "Training epoch: 127: 100%|██████████| 313/313 [00:22<00:00, 13.65it/s]\n",
      "Training epoch: 128: 100%|██████████| 313/313 [00:22<00:00, 13.91it/s]\n",
      "Training epoch: 129: 100%|██████████| 313/313 [00:22<00:00, 13.98it/s]\n",
      "Training epoch: 130: 100%|██████████| 313/313 [00:23<00:00, 13.48it/s]\n",
      "Training epoch: 131: 100%|██████████| 313/313 [00:22<00:00, 13.86it/s]\n",
      "Training epoch: 132: 100%|██████████| 313/313 [00:22<00:00, 14.03it/s]\n",
      "Training epoch: 133: 100%|██████████| 313/313 [00:22<00:00, 13.74it/s]\n",
      "Training epoch: 134: 100%|██████████| 313/313 [00:22<00:00, 13.79it/s]\n",
      "Training epoch: 135: 100%|██████████| 313/313 [00:22<00:00, 14.12it/s]\n",
      "Training epoch: 136: 100%|██████████| 313/313 [00:22<00:00, 13.84it/s]\n",
      "Training epoch: 137: 100%|██████████| 313/313 [00:22<00:00, 13.90it/s]\n",
      "Training epoch: 138: 100%|██████████| 313/313 [00:22<00:00, 14.03it/s]\n",
      "Training epoch: 139: 100%|██████████| 313/313 [00:22<00:00, 14.00it/s]\n",
      "Training epoch: 140: 100%|██████████| 313/313 [00:22<00:00, 13.79it/s]\n",
      "Training epoch: 141: 100%|██████████| 313/313 [00:22<00:00, 13.88it/s]\n",
      "Training epoch: 142: 100%|██████████| 313/313 [00:22<00:00, 14.19it/s]\n",
      "Training epoch: 143: 100%|██████████| 313/313 [00:22<00:00, 13.61it/s]\n",
      "Training epoch: 144: 100%|██████████| 313/313 [00:23<00:00, 13.57it/s]\n",
      "Training epoch: 145: 100%|██████████| 313/313 [00:22<00:00, 14.09it/s]\n",
      "Training epoch: 146: 100%|██████████| 313/313 [00:22<00:00, 13.66it/s]\n",
      "Training epoch: 147: 100%|██████████| 313/313 [00:23<00:00, 13.61it/s]\n",
      "Training epoch: 148: 100%|██████████| 313/313 [00:22<00:00, 13.70it/s]\n",
      "Training epoch: 149: 100%|██████████| 313/313 [00:22<00:00, 14.10it/s]\n",
      "Training epoch: 150: 100%|██████████| 313/313 [00:22<00:00, 13.70it/s]\n",
      "Training epoch: 151: 100%|██████████| 313/313 [00:22<00:00, 13.63it/s]\n",
      "Training epoch: 152: 100%|██████████| 313/313 [00:22<00:00, 14.12it/s]\n",
      "Training epoch: 153: 100%|██████████| 313/313 [00:23<00:00, 13.56it/s]\n",
      "Training epoch: 154: 100%|██████████| 313/313 [00:23<00:00, 13.59it/s]\n",
      "Training epoch: 155: 100%|██████████| 313/313 [00:22<00:00, 13.68it/s]\n",
      "Training epoch: 156: 100%|██████████| 313/313 [00:22<00:00, 13.88it/s]\n",
      "Training epoch: 157: 100%|██████████| 313/313 [00:22<00:00, 13.65it/s]\n",
      "Training epoch: 158: 100%|██████████| 313/313 [00:22<00:00, 13.73it/s]\n",
      "Training epoch: 159: 100%|██████████| 313/313 [00:22<00:00, 14.20it/s]\n",
      "Training epoch: 160: 100%|██████████| 313/313 [00:22<00:00, 13.77it/s]\n",
      "Training epoch: 161: 100%|██████████| 313/313 [00:22<00:00, 13.70it/s]\n",
      "Training epoch: 162: 100%|██████████| 313/313 [00:22<00:00, 13.90it/s]\n",
      "Training epoch: 163: 100%|██████████| 313/313 [00:22<00:00, 13.86it/s]\n",
      "Training epoch: 164: 100%|██████████| 313/313 [00:22<00:00, 13.75it/s]\n",
      "Training epoch: 165: 100%|██████████| 313/313 [00:22<00:00, 13.85it/s]\n",
      "Training epoch: 166: 100%|██████████| 313/313 [00:22<00:00, 14.02it/s]\n",
      "Training epoch: 167: 100%|██████████| 313/313 [00:23<00:00, 13.53it/s]\n",
      "Training epoch: 168: 100%|██████████| 313/313 [00:22<00:00, 13.66it/s]\n",
      "Training epoch: 169: 100%|██████████| 313/313 [00:22<00:00, 13.97it/s]\n",
      "Training epoch: 170: 100%|██████████| 313/313 [00:22<00:00, 13.73it/s]\n",
      "Training epoch: 171: 100%|██████████| 313/313 [00:22<00:00, 13.69it/s]\n",
      "Training epoch: 172: 100%|██████████| 313/313 [00:22<00:00, 14.04it/s]\n",
      "Training epoch: 173: 100%|██████████| 313/313 [00:22<00:00, 14.17it/s]\n",
      "Training epoch: 174: 100%|██████████| 313/313 [00:22<00:00, 13.87it/s]\n",
      "Training epoch: 175: 100%|██████████| 313/313 [00:22<00:00, 13.70it/s]\n",
      "Training epoch: 176: 100%|██████████| 313/313 [00:21<00:00, 14.32it/s]\n",
      "Training epoch: 177: 100%|██████████| 313/313 [00:22<00:00, 13.79it/s]\n",
      "Training epoch: 178: 100%|██████████| 313/313 [00:23<00:00, 13.46it/s]\n",
      "Training epoch: 179: 100%|██████████| 313/313 [00:22<00:00, 13.70it/s]\n",
      "Training epoch: 180: 100%|██████████| 313/313 [00:23<00:00, 13.22it/s]\n",
      "Training epoch: 181: 100%|██████████| 313/313 [00:23<00:00, 13.45it/s]\n",
      "Training epoch: 182: 100%|██████████| 313/313 [00:23<00:00, 13.60it/s]\n",
      "Training epoch: 183: 100%|██████████| 313/313 [00:22<00:00, 13.86it/s]\n",
      "Training epoch: 184: 100%|██████████| 313/313 [00:23<00:00, 13.48it/s]\n",
      "Training epoch: 185: 100%|██████████| 313/313 [00:23<00:00, 13.42it/s]\n",
      "Training epoch: 186: 100%|██████████| 313/313 [00:22<00:00, 13.84it/s]\n",
      "Training epoch: 187: 100%|██████████| 313/313 [00:22<00:00, 13.76it/s]\n",
      "Training epoch: 188: 100%|██████████| 313/313 [00:22<00:00, 13.63it/s]\n",
      "Training epoch: 189: 100%|██████████| 313/313 [00:23<00:00, 13.57it/s]\n",
      "Training epoch: 190: 100%|██████████| 313/313 [00:22<00:00, 14.12it/s]\n",
      "Training epoch: 191: 100%|██████████| 313/313 [00:22<00:00, 13.61it/s]\n",
      "Training epoch: 192: 100%|██████████| 313/313 [00:23<00:00, 13.59it/s]\n",
      "Training epoch: 193: 100%|██████████| 313/313 [00:22<00:00, 14.06it/s]\n",
      "Training epoch: 194: 100%|██████████| 313/313 [00:22<00:00, 13.78it/s]\n",
      "Training epoch: 195: 100%|██████████| 313/313 [00:22<00:00, 13.65it/s]\n",
      "Training epoch: 196: 100%|██████████| 313/313 [00:22<00:00, 13.81it/s]\n",
      "Training epoch: 197: 100%|██████████| 313/313 [00:22<00:00, 14.04it/s]\n",
      "Training epoch: 198: 100%|██████████| 313/313 [00:22<00:00, 13.62it/s]\n",
      "Training epoch: 199: 100%|██████████| 313/313 [00:23<00:00, 13.53it/s]\n",
      "Training epoch: 200: 100%|██████████| 313/313 [00:22<00:00, 14.09it/s]\n",
      "Training epoch: 201: 100%|██████████| 313/313 [00:22<00:00, 13.66it/s]\n",
      "Training epoch: 202: 100%|██████████| 313/313 [00:22<00:00, 13.68it/s]\n",
      "Training epoch: 203: 100%|██████████| 313/313 [00:22<00:00, 14.14it/s]\n",
      "Training epoch: 204: 100%|██████████| 313/313 [00:22<00:00, 13.75it/s]\n",
      "Training epoch: 205: 100%|██████████| 313/313 [00:23<00:00, 13.59it/s]\n",
      "Training epoch: 206: 100%|██████████| 313/313 [00:23<00:00, 13.47it/s]\n",
      "Training epoch: 207: 100%|██████████| 313/313 [00:22<00:00, 13.88it/s]\n",
      "Training epoch: 208: 100%|██████████| 313/313 [00:23<00:00, 13.51it/s]\n",
      "Training epoch: 209: 100%|██████████| 313/313 [00:23<00:00, 13.57it/s]\n",
      "Training epoch: 210: 100%|██████████| 313/313 [00:21<00:00, 14.23it/s]\n",
      "Training epoch: 211: 100%|██████████| 313/313 [00:23<00:00, 13.16it/s]\n",
      "Training epoch: 212: 100%|██████████| 313/313 [00:23<00:00, 13.55it/s]\n",
      "Training epoch: 213: 100%|██████████| 313/313 [00:22<00:00, 14.01it/s]\n",
      "Training epoch: 214: 100%|██████████| 313/313 [00:22<00:00, 14.12it/s]\n",
      "Training epoch: 215: 100%|██████████| 313/313 [00:23<00:00, 13.53it/s]\n",
      "Training epoch: 216: 100%|██████████| 313/313 [00:23<00:00, 13.58it/s]\n",
      "Training epoch: 217: 100%|██████████| 313/313 [00:22<00:00, 14.12it/s]\n",
      "Training epoch: 218: 100%|██████████| 313/313 [00:22<00:00, 13.73it/s]\n",
      "Training epoch: 219: 100%|██████████| 313/313 [00:22<00:00, 13.76it/s]\n",
      "Training epoch: 220: 100%|██████████| 313/313 [00:22<00:00, 14.08it/s]\n",
      "Training epoch: 221: 100%|██████████| 313/313 [00:23<00:00, 13.52it/s]\n",
      "Training epoch: 222: 100%|██████████| 313/313 [00:23<00:00, 13.53it/s]\n",
      "Training epoch: 223: 100%|██████████| 313/313 [00:22<00:00, 13.86it/s]\n",
      "Training epoch: 224: 100%|██████████| 313/313 [00:22<00:00, 14.12it/s]\n",
      "Training epoch: 225: 100%|██████████| 313/313 [00:23<00:00, 13.46it/s]\n",
      "Training epoch: 226: 100%|██████████| 313/313 [00:22<00:00, 13.63it/s]\n",
      "Training epoch: 227: 100%|██████████| 313/313 [00:22<00:00, 13.92it/s]\n",
      "Training epoch: 228: 100%|██████████| 313/313 [00:22<00:00, 13.70it/s]\n",
      "Training epoch: 229: 100%|██████████| 313/313 [00:22<00:00, 13.69it/s]\n",
      "Training epoch: 230: 100%|██████████| 313/313 [00:22<00:00, 14.13it/s]\n",
      "Training epoch: 231: 100%|██████████| 313/313 [00:22<00:00, 13.70it/s]\n",
      "Training epoch: 232: 100%|██████████| 313/313 [00:22<00:00, 13.68it/s]\n",
      "Training epoch: 233: 100%|██████████| 313/313 [00:22<00:00, 13.70it/s]\n",
      "Training epoch: 234: 100%|██████████| 313/313 [00:22<00:00, 13.84it/s]\n",
      "Training epoch: 235: 100%|██████████| 313/313 [00:23<00:00, 13.47it/s]\n",
      "Training epoch: 236: 100%|██████████| 313/313 [00:23<00:00, 13.53it/s]\n",
      "Training epoch: 237: 100%|██████████| 313/313 [00:22<00:00, 14.15it/s]\n",
      "Training epoch: 238: 100%|██████████| 313/313 [00:22<00:00, 13.71it/s]\n",
      "Training epoch: 239: 100%|██████████| 313/313 [00:23<00:00, 13.54it/s]\n",
      "Training epoch: 240: 100%|██████████| 313/313 [00:22<00:00, 13.81it/s]\n",
      "Training epoch: 241: 100%|██████████| 313/313 [00:22<00:00, 13.73it/s]\n",
      "Training epoch: 242: 100%|██████████| 313/313 [00:22<00:00, 13.63it/s]\n",
      "Training epoch: 243: 100%|██████████| 313/313 [00:22<00:00, 13.81it/s]\n",
      "Training epoch: 244: 100%|██████████| 313/313 [00:22<00:00, 13.78it/s]\n",
      "Training epoch: 245: 100%|██████████| 313/313 [00:22<00:00, 13.64it/s]\n",
      "Training epoch: 246: 100%|██████████| 313/313 [00:22<00:00, 13.69it/s]\n",
      "Training epoch: 247: 100%|██████████| 313/313 [00:22<00:00, 13.68it/s]\n",
      "Training epoch: 248: 100%|██████████| 313/313 [00:22<00:00, 13.72it/s]\n",
      "Training epoch: 249: 100%|██████████| 313/313 [00:23<00:00, 13.49it/s]\n",
      "Training epoch: 250: 100%|██████████| 313/313 [00:22<00:00, 13.77it/s]\n",
      "Training epoch: 251: 100%|██████████| 313/313 [00:22<00:00, 13.76it/s]\n",
      "Training epoch: 252: 100%|██████████| 313/313 [00:23<00:00, 13.56it/s]\n",
      "Training epoch: 253: 100%|██████████| 313/313 [00:22<00:00, 13.86it/s]\n",
      "Training epoch: 254: 100%|██████████| 313/313 [00:23<00:00, 13.55it/s]\n",
      "Training epoch: 255: 100%|██████████| 313/313 [00:22<00:00, 13.70it/s]\n",
      "Training epoch: 256: 100%|██████████| 313/313 [00:22<00:00, 13.67it/s]\n",
      "Training epoch: 257: 100%|██████████| 313/313 [00:23<00:00, 13.56it/s]\n",
      "Training epoch: 258: 100%|██████████| 313/313 [00:22<00:00, 13.81it/s]\n",
      "Training epoch: 259: 100%|██████████| 313/313 [00:23<00:00, 13.54it/s]\n",
      "Training epoch: 260: 100%|██████████| 313/313 [00:23<00:00, 13.52it/s]\n",
      "Training epoch: 261: 100%|██████████| 313/313 [00:23<00:00, 13.47it/s]\n",
      "Training epoch: 262: 100%|██████████| 313/313 [00:23<00:00, 13.42it/s]\n",
      "Training epoch: 263: 100%|██████████| 313/313 [00:22<00:00, 13.84it/s]\n",
      "Training epoch: 264: 100%|██████████| 313/313 [00:23<00:00, 13.60it/s]\n",
      "Training epoch: 265: 100%|██████████| 313/313 [00:22<00:00, 13.77it/s]\n",
      "Training epoch: 266: 100%|██████████| 313/313 [00:22<00:00, 13.97it/s]\n",
      "Training epoch: 267: 100%|██████████| 313/313 [00:23<00:00, 13.46it/s]\n",
      "Training epoch: 268: 100%|██████████| 313/313 [00:23<00:00, 13.55it/s]\n",
      "Training epoch: 269: 100%|██████████| 313/313 [00:22<00:00, 14.05it/s]\n",
      "Training epoch: 270: 100%|██████████| 313/313 [00:23<00:00, 13.42it/s]\n",
      "Training epoch: 271: 100%|██████████| 313/313 [00:22<00:00, 13.62it/s]\n",
      "Training epoch: 272: 100%|██████████| 313/313 [00:22<00:00, 13.97it/s]\n",
      "Training epoch: 273: 100%|██████████| 313/313 [00:23<00:00, 13.61it/s]\n",
      "Training epoch: 274: 100%|██████████| 313/313 [00:23<00:00, 13.61it/s]\n",
      "Training epoch: 275: 100%|██████████| 313/313 [00:22<00:00, 13.65it/s]\n",
      "Training epoch: 276: 100%|██████████| 313/313 [00:22<00:00, 13.96it/s]\n",
      "Training epoch: 277: 100%|██████████| 313/313 [00:23<00:00, 13.24it/s]\n",
      "Training epoch: 278: 100%|██████████| 313/313 [00:23<00:00, 13.35it/s]\n",
      "Training epoch: 279: 100%|██████████| 313/313 [00:22<00:00, 14.05it/s]\n",
      "Training epoch: 280: 100%|██████████| 313/313 [00:23<00:00, 13.33it/s]\n",
      "Training epoch: 281: 100%|██████████| 313/313 [00:23<00:00, 13.43it/s]\n",
      "Training epoch: 282: 100%|██████████| 313/313 [00:22<00:00, 13.97it/s]\n",
      "Training epoch: 283: 100%|██████████| 313/313 [00:22<00:00, 13.66it/s]\n",
      "Training epoch: 284: 100%|██████████| 313/313 [00:23<00:00, 13.45it/s]\n",
      "Training epoch: 285: 100%|██████████| 313/313 [00:22<00:00, 13.68it/s]\n",
      "Training epoch: 286: 100%|██████████| 313/313 [00:22<00:00, 13.77it/s]\n",
      "Training epoch: 287: 100%|██████████| 313/313 [00:22<00:00, 13.75it/s]\n",
      "Training epoch: 288: 100%|██████████| 313/313 [00:22<00:00, 13.74it/s]\n",
      "Training epoch: 289: 100%|██████████| 313/313 [00:22<00:00, 14.11it/s]\n",
      "Training epoch: 290: 100%|██████████| 313/313 [00:22<00:00, 13.78it/s]\n",
      "Training epoch: 291: 100%|██████████| 313/313 [00:22<00:00, 13.63it/s]\n",
      "Training epoch: 292: 100%|██████████| 313/313 [00:22<00:00, 13.97it/s]\n",
      "Training epoch: 293: 100%|██████████| 313/313 [00:22<00:00, 13.71it/s]\n",
      "Training epoch: 294: 100%|██████████| 313/313 [00:23<00:00, 13.51it/s]\n",
      "Training epoch: 295: 100%|██████████| 313/313 [00:22<00:00, 13.81it/s]\n",
      "Training epoch: 296: 100%|██████████| 313/313 [00:23<00:00, 13.55it/s]\n",
      "Training epoch: 297: 100%|██████████| 313/313 [00:23<00:00, 13.59it/s]\n",
      "Training epoch: 298: 100%|██████████| 313/313 [00:22<00:00, 13.79it/s]\n",
      "Training epoch: 299: 100%|██████████| 313/313 [00:23<00:00, 13.54it/s]\n",
      "Training epoch: 300: 100%|██████████| 313/313 [00:22<00:00, 13.77it/s]\n",
      "Training epoch: 301: 100%|██████████| 313/313 [00:22<00:00, 13.95it/s]\n",
      "Training epoch: 302: 100%|██████████| 313/313 [00:22<00:00, 13.62it/s]\n",
      "Training epoch: 303: 100%|██████████| 313/313 [00:22<00:00, 13.87it/s]\n",
      "Training epoch: 304: 100%|██████████| 313/313 [00:22<00:00, 13.88it/s]\n",
      "Training epoch: 305: 100%|██████████| 313/313 [00:22<00:00, 13.63it/s]\n",
      "Training epoch: 306: 100%|██████████| 313/313 [00:23<00:00, 13.42it/s]\n",
      "Training epoch: 307: 100%|██████████| 313/313 [00:22<00:00, 14.06it/s]\n",
      "Training epoch: 308: 100%|██████████| 313/313 [00:23<00:00, 13.57it/s]\n",
      "Training epoch: 309: 100%|██████████| 313/313 [00:23<00:00, 13.53it/s]\n",
      "Training epoch: 310: 100%|██████████| 313/313 [00:22<00:00, 14.08it/s]\n",
      "Training epoch: 311: 100%|██████████| 313/313 [00:23<00:00, 13.52it/s]\n",
      "Training epoch: 312: 100%|██████████| 313/313 [00:22<00:00, 13.63it/s]\n",
      "Training epoch: 313: 100%|██████████| 313/313 [00:22<00:00, 14.11it/s]\n",
      "Training epoch: 314: 100%|██████████| 313/313 [00:22<00:00, 13.68it/s]\n",
      "Training epoch: 315: 100%|██████████| 313/313 [00:23<00:00, 13.40it/s]\n",
      "Training epoch: 316: 100%|██████████| 313/313 [00:22<00:00, 13.80it/s]\n",
      "Training epoch: 317: 100%|██████████| 313/313 [00:23<00:00, 13.56it/s]\n",
      "Training epoch: 318: 100%|██████████| 313/313 [00:23<00:00, 13.49it/s]\n",
      "Training epoch: 319: 100%|██████████| 313/313 [00:22<00:00, 13.79it/s]\n",
      "Training epoch: 320: 100%|██████████| 313/313 [00:23<00:00, 13.52it/s]\n",
      "Training epoch: 321: 100%|██████████| 313/313 [00:22<00:00, 13.72it/s]\n",
      "Training epoch: 322: 100%|██████████| 313/313 [00:22<00:00, 13.90it/s]\n",
      "Training epoch: 323: 100%|██████████| 313/313 [00:23<00:00, 13.59it/s]\n",
      "Training epoch: 324: 100%|██████████| 313/313 [00:22<00:00, 13.83it/s]\n",
      "Training epoch: 325: 100%|██████████| 313/313 [00:22<00:00, 13.94it/s]\n",
      "Training epoch: 326: 100%|██████████| 313/313 [00:23<00:00, 13.52it/s]\n",
      "Training epoch: 327: 100%|██████████| 313/313 [00:22<00:00, 13.67it/s]\n",
      "Training epoch: 328: 100%|██████████| 313/313 [00:22<00:00, 14.05it/s]\n",
      "Training epoch: 329: 100%|██████████| 313/313 [00:23<00:00, 13.59it/s]\n",
      "Training epoch: 330: 100%|██████████| 313/313 [00:23<00:00, 13.38it/s]\n",
      "Training epoch: 331: 100%|██████████| 313/313 [00:22<00:00, 14.07it/s]\n",
      "Training epoch: 332: 100%|██████████| 313/313 [00:23<00:00, 13.41it/s]\n",
      "Training epoch: 333: 100%|██████████| 313/313 [00:23<00:00, 13.36it/s]\n",
      "Training epoch: 334: 100%|██████████| 313/313 [00:22<00:00, 14.09it/s]\n",
      "Training epoch: 335: 100%|██████████| 313/313 [00:22<00:00, 13.64it/s]\n",
      "Training epoch: 336: 100%|██████████| 313/313 [00:23<00:00, 13.59it/s]\n",
      "Training epoch: 337: 100%|██████████| 313/313 [00:22<00:00, 13.91it/s]\n",
      "Training epoch: 338: 100%|██████████| 313/313 [00:22<00:00, 13.62it/s]\n",
      "Training epoch: 339: 100%|██████████| 313/313 [00:23<00:00, 13.38it/s]\n",
      "Training epoch: 340: 100%|██████████| 313/313 [00:22<00:00, 13.73it/s]\n",
      "Training epoch: 341: 100%|██████████| 313/313 [00:22<00:00, 13.70it/s]\n",
      "Training epoch: 342: 100%|██████████| 313/313 [00:22<00:00, 13.61it/s]\n",
      "Training epoch: 343: 100%|██████████| 313/313 [00:22<00:00, 13.76it/s]\n",
      "Training epoch: 344: 100%|██████████| 313/313 [00:23<00:00, 13.38it/s]\n",
      "Training epoch: 345: 100%|██████████| 313/313 [00:23<00:00, 13.50it/s]\n",
      "Training epoch: 346: 100%|██████████| 313/313 [00:23<00:00, 13.52it/s]\n",
      "Training epoch: 347: 100%|██████████| 313/313 [00:23<00:00, 13.24it/s]\n",
      "Training epoch: 348: 100%|██████████| 313/313 [00:23<00:00, 13.26it/s]\n",
      "Training epoch: 349: 100%|██████████| 313/313 [00:22<00:00, 13.70it/s]\n",
      "Training epoch: 350: 100%|██████████| 313/313 [00:23<00:00, 13.36it/s]\n",
      "Training epoch: 351: 100%|██████████| 313/313 [00:23<00:00, 13.21it/s]\n",
      "Training epoch: 352: 100%|██████████| 313/313 [00:22<00:00, 13.91it/s]\n",
      "Training epoch: 353: 100%|██████████| 313/313 [00:23<00:00, 13.54it/s]\n",
      "Training epoch: 354: 100%|██████████| 313/313 [00:23<00:00, 13.22it/s]\n",
      "Training epoch: 355: 100%|██████████| 313/313 [00:23<00:00, 13.48it/s]\n",
      "Training epoch: 356: 100%|██████████| 313/313 [00:22<00:00, 14.00it/s]\n",
      "Training epoch: 357: 100%|██████████| 313/313 [00:23<00:00, 13.34it/s]\n",
      "Training epoch: 358: 100%|██████████| 313/313 [00:23<00:00, 13.54it/s]\n",
      "Training epoch: 359: 100%|██████████| 313/313 [00:22<00:00, 13.84it/s]\n",
      "Training epoch: 360: 100%|██████████| 313/313 [00:23<00:00, 13.29it/s]\n",
      "Training epoch: 361: 100%|██████████| 313/313 [00:23<00:00, 13.21it/s]\n",
      "Training epoch: 362: 100%|██████████| 313/313 [00:22<00:00, 13.68it/s]\n",
      "Training epoch: 363: 100%|██████████| 313/313 [00:23<00:00, 13.60it/s]\n",
      "Training epoch: 364: 100%|██████████| 313/313 [00:23<00:00, 13.25it/s]\n",
      "Training epoch: 365: 100%|██████████| 313/313 [00:22<00:00, 13.77it/s]\n",
      "Training epoch: 366: 100%|██████████| 313/313 [00:23<00:00, 13.60it/s]\n",
      "Training epoch: 367: 100%|██████████| 313/313 [00:23<00:00, 13.50it/s]\n",
      "Training epoch: 368: 100%|██████████| 313/313 [00:22<00:00, 13.83it/s]\n",
      "Training epoch: 369: 100%|██████████| 313/313 [00:23<00:00, 13.44it/s]\n",
      "Training epoch: 370: 100%|██████████| 313/313 [00:23<00:00, 13.49it/s]\n",
      "Training epoch: 371: 100%|██████████| 313/313 [00:22<00:00, 13.62it/s]\n",
      "Training epoch: 372: 100%|██████████| 313/313 [00:23<00:00, 13.40it/s]\n",
      "Training epoch: 373: 100%|██████████| 313/313 [00:22<00:00, 13.75it/s]\n",
      "Training epoch: 374: 100%|██████████| 313/313 [00:22<00:00, 13.92it/s]\n",
      "Training epoch: 375: 100%|██████████| 313/313 [00:23<00:00, 13.37it/s]\n",
      "Training epoch: 376: 100%|██████████| 313/313 [00:23<00:00, 13.43it/s]\n",
      "Training epoch: 377: 100%|██████████| 313/313 [00:22<00:00, 14.14it/s]\n",
      "Training epoch: 378: 100%|██████████| 313/313 [00:23<00:00, 13.44it/s]\n",
      "Training epoch: 379: 100%|██████████| 313/313 [00:23<00:00, 13.37it/s]\n",
      "Training epoch: 380: 100%|██████████| 313/313 [00:22<00:00, 13.94it/s]\n",
      "Training epoch: 381: 100%|██████████| 313/313 [00:23<00:00, 13.50it/s]\n",
      "Training epoch: 382: 100%|██████████| 313/313 [00:23<00:00, 13.42it/s]\n",
      "Training epoch: 383: 100%|██████████| 313/313 [00:22<00:00, 13.90it/s]\n",
      "Training epoch: 384: 100%|██████████| 313/313 [00:23<00:00, 13.53it/s]\n",
      "Training epoch: 385: 100%|██████████| 313/313 [00:23<00:00, 13.47it/s]\n",
      "Training epoch: 386: 100%|██████████| 313/313 [00:22<00:00, 13.78it/s]\n",
      "Training epoch: 387: 100%|██████████| 313/313 [00:23<00:00, 13.35it/s]\n",
      "Training epoch: 388: 100%|██████████| 313/313 [00:23<00:00, 13.31it/s]\n",
      "Training epoch: 389: 100%|██████████| 313/313 [00:22<00:00, 13.78it/s]\n",
      "Training epoch: 390: 100%|██████████| 313/313 [00:23<00:00, 13.32it/s]\n",
      "Training epoch: 391: 100%|██████████| 313/313 [00:24<00:00, 12.97it/s]\n",
      "Training epoch: 392: 100%|██████████| 313/313 [00:23<00:00, 13.52it/s]\n",
      "Training epoch: 393: 100%|██████████| 313/313 [00:23<00:00, 13.21it/s]\n",
      "Training epoch: 394: 100%|██████████| 313/313 [00:23<00:00, 13.19it/s]\n",
      "Training epoch: 395: 100%|██████████| 313/313 [00:23<00:00, 13.58it/s]\n",
      "Training epoch: 396: 100%|██████████| 313/313 [00:24<00:00, 12.98it/s]\n",
      "Training epoch: 397: 100%|██████████| 313/313 [00:24<00:00, 12.84it/s]\n",
      "Training epoch: 398: 100%|██████████| 313/313 [00:22<00:00, 13.72it/s]\n",
      "Training epoch: 399: 100%|██████████| 313/313 [00:23<00:00, 13.57it/s]\n",
      "Training epoch: 400: 100%|██████████| 313/313 [00:23<00:00, 13.16it/s]\n",
      "Training epoch: 401: 100%|██████████| 313/313 [00:22<00:00, 13.76it/s]\n",
      "Training epoch: 402: 100%|██████████| 313/313 [00:22<00:00, 13.63it/s]\n",
      "Training epoch: 403: 100%|██████████| 313/313 [00:23<00:00, 13.12it/s]\n",
      "Training epoch: 404: 100%|██████████| 313/313 [00:22<00:00, 13.64it/s]\n",
      "Training epoch: 405: 100%|██████████| 313/313 [00:23<00:00, 13.51it/s]\n",
      "Training epoch: 406: 100%|██████████| 313/313 [00:23<00:00, 13.51it/s]\n",
      "Training epoch: 407: 100%|██████████| 313/313 [00:22<00:00, 13.89it/s]\n",
      "Training epoch: 408: 100%|██████████| 313/313 [00:22<00:00, 13.62it/s]\n",
      "Training epoch: 409: 100%|██████████| 313/313 [00:22<00:00, 13.67it/s]\n",
      "Training epoch: 410: 100%|██████████| 313/313 [00:22<00:00, 13.68it/s]\n",
      "Training epoch: 411: 100%|██████████| 313/313 [00:22<00:00, 13.70it/s]\n",
      "Training epoch: 412: 100%|██████████| 313/313 [00:23<00:00, 13.51it/s]\n",
      "Training epoch: 413: 100%|██████████| 313/313 [00:22<00:00, 13.84it/s]\n",
      "Training epoch: 414: 100%|██████████| 313/313 [00:22<00:00, 13.71it/s]\n",
      "Training epoch: 415: 100%|██████████| 313/313 [00:23<00:00, 13.43it/s]\n",
      "Training epoch: 416: 100%|██████████| 313/313 [00:22<00:00, 14.17it/s]\n",
      "Training epoch: 417: 100%|██████████| 313/313 [00:22<00:00, 13.75it/s]\n",
      "Training epoch: 418: 100%|██████████| 313/313 [00:23<00:00, 13.27it/s]\n",
      "Training epoch: 419: 100%|██████████| 313/313 [00:22<00:00, 14.13it/s]\n",
      "Training epoch: 420: 100%|██████████| 313/313 [00:22<00:00, 13.86it/s]\n",
      "Training epoch: 421: 100%|██████████| 313/313 [00:23<00:00, 13.34it/s]\n",
      "Training epoch: 422: 100%|██████████| 313/313 [00:22<00:00, 13.86it/s]\n",
      "Training epoch: 423: 100%|██████████| 313/313 [00:22<00:00, 13.62it/s]\n",
      "Training epoch: 424: 100%|██████████| 313/313 [00:23<00:00, 13.40it/s]\n",
      "Training epoch: 425: 100%|██████████| 313/313 [00:22<00:00, 13.88it/s]\n",
      "Training epoch: 426: 100%|██████████| 313/313 [00:22<00:00, 13.64it/s]\n",
      "Training epoch: 427: 100%|██████████| 313/313 [00:23<00:00, 13.56it/s]\n",
      "Training epoch: 428: 100%|██████████| 313/313 [00:22<00:00, 14.03it/s]\n",
      "Training epoch: 429: 100%|██████████| 313/313 [00:23<00:00, 13.45it/s]\n",
      "Training epoch: 430: 100%|██████████| 313/313 [00:22<00:00, 13.63it/s]\n",
      "Training epoch: 431: 100%|██████████| 313/313 [00:22<00:00, 13.85it/s]\n",
      "Training epoch: 432: 100%|██████████| 313/313 [00:23<00:00, 13.43it/s]\n",
      "Training epoch: 433: 100%|██████████| 313/313 [00:23<00:00, 13.55it/s]\n",
      "Training epoch: 434: 100%|██████████| 313/313 [00:22<00:00, 14.00it/s]\n",
      "Training epoch: 435: 100%|██████████| 313/313 [00:23<00:00, 13.41it/s]\n",
      "Training epoch: 436: 100%|██████████| 313/313 [00:23<00:00, 13.47it/s]\n",
      "Training epoch: 437: 100%|██████████| 313/313 [00:22<00:00, 14.09it/s]\n",
      "Training epoch: 438: 100%|██████████| 313/313 [00:23<00:00, 13.43it/s]\n",
      "Training epoch: 439: 100%|██████████| 313/313 [00:23<00:00, 13.56it/s]\n",
      "Training epoch: 440: 100%|██████████| 313/313 [00:22<00:00, 14.07it/s]\n",
      "Training epoch: 441: 100%|██████████| 313/313 [00:22<00:00, 13.62it/s]\n",
      "Training epoch: 442: 100%|██████████| 313/313 [00:22<00:00, 13.68it/s]\n",
      "Training epoch: 443: 100%|██████████| 313/313 [00:22<00:00, 13.85it/s]\n",
      "Training epoch: 444: 100%|██████████| 313/313 [00:22<00:00, 13.70it/s]\n",
      "Training epoch: 445: 100%|██████████| 313/313 [00:22<00:00, 13.99it/s]\n",
      "Training epoch: 446: 100%|██████████| 313/313 [00:22<00:00, 13.72it/s]\n",
      "Training epoch: 447: 100%|██████████| 313/313 [00:22<00:00, 13.64it/s]\n",
      "Training epoch: 448: 100%|██████████| 313/313 [00:22<00:00, 13.94it/s]\n",
      "Training epoch: 449: 100%|██████████| 313/313 [00:23<00:00, 13.57it/s]\n",
      "Training epoch: 450: 100%|██████████| 313/313 [00:23<00:00, 13.18it/s]\n",
      "Training epoch: 451: 100%|██████████| 313/313 [00:22<00:00, 13.81it/s]\n",
      "Training epoch: 452: 100%|██████████| 313/313 [00:23<00:00, 13.33it/s]\n",
      "Training epoch: 453: 100%|██████████| 313/313 [00:23<00:00, 13.31it/s]\n",
      "Training epoch: 454: 100%|██████████| 313/313 [00:21<00:00, 14.24it/s]\n",
      "Training epoch: 455: 100%|██████████| 313/313 [00:23<00:00, 13.34it/s]\n",
      "Training epoch: 456: 100%|██████████| 313/313 [00:23<00:00, 13.42it/s]\n",
      "Training epoch: 457: 100%|██████████| 313/313 [00:22<00:00, 13.91it/s]\n",
      "Training epoch: 458: 100%|██████████| 313/313 [00:22<00:00, 13.62it/s]\n",
      "Training epoch: 459: 100%|██████████| 313/313 [00:23<00:00, 13.51it/s]\n",
      "Training epoch: 460: 100%|██████████| 313/313 [00:22<00:00, 13.87it/s]\n",
      "Training epoch: 461: 100%|██████████| 313/313 [00:23<00:00, 13.52it/s]\n",
      "Training epoch: 462: 100%|██████████| 313/313 [00:22<00:00, 13.63it/s]\n",
      "Training epoch: 463: 100%|██████████| 313/313 [00:22<00:00, 13.77it/s]\n",
      "Training epoch: 464: 100%|██████████| 313/313 [00:23<00:00, 13.47it/s]\n",
      "Training epoch: 465: 100%|██████████| 313/313 [00:22<00:00, 13.86it/s]\n",
      "Training epoch: 466: 100%|██████████| 313/313 [00:22<00:00, 13.61it/s]\n",
      "Training epoch: 467: 100%|██████████| 313/313 [00:23<00:00, 13.40it/s]\n",
      "Training epoch: 468: 100%|██████████| 313/313 [00:22<00:00, 14.02it/s]\n",
      "Training epoch: 469: 100%|██████████| 313/313 [00:22<00:00, 13.64it/s]\n",
      "Training epoch: 470: 100%|██████████| 313/313 [00:23<00:00, 13.26it/s]\n",
      "Training epoch: 471: 100%|██████████| 313/313 [00:22<00:00, 13.94it/s]\n",
      "Training epoch: 472: 100%|██████████| 313/313 [00:22<00:00, 13.79it/s]\n",
      "Training epoch: 473: 100%|██████████| 313/313 [00:23<00:00, 13.25it/s]\n",
      "Training epoch: 474: 100%|██████████| 313/313 [00:22<00:00, 13.89it/s]\n",
      "Training epoch: 475: 100%|██████████| 313/313 [00:23<00:00, 13.45it/s]\n",
      "Training epoch: 476: 100%|██████████| 313/313 [00:23<00:00, 13.25it/s]\n",
      "Training epoch: 477: 100%|██████████| 313/313 [00:22<00:00, 13.76it/s]\n",
      "Training epoch: 478: 100%|██████████| 313/313 [00:23<00:00, 13.25it/s]\n",
      "Training epoch: 479: 100%|██████████| 313/313 [00:23<00:00, 13.50it/s]\n",
      "Training epoch: 480: 100%|██████████| 313/313 [00:22<00:00, 13.81it/s]\n",
      "Training epoch: 481: 100%|██████████| 313/313 [00:23<00:00, 13.10it/s]\n",
      "Training epoch: 482: 100%|██████████| 313/313 [00:23<00:00, 13.36it/s]\n",
      "Training epoch: 483: 100%|██████████| 313/313 [00:22<00:00, 13.92it/s]\n",
      "Training epoch: 484: 100%|██████████| 313/313 [00:23<00:00, 13.21it/s]\n",
      "Training epoch: 485: 100%|██████████| 313/313 [00:23<00:00, 13.46it/s]\n",
      "Training epoch: 486: 100%|██████████| 313/313 [00:22<00:00, 13.97it/s]\n",
      "Training epoch: 487: 100%|██████████| 313/313 [00:23<00:00, 13.20it/s]\n",
      "Training epoch: 488: 100%|██████████| 313/313 [00:22<00:00, 13.81it/s]\n",
      "Training epoch: 489: 100%|██████████| 313/313 [00:22<00:00, 13.76it/s]\n",
      "Training epoch: 490: 100%|██████████| 313/313 [00:23<00:00, 13.25it/s]\n",
      "Training epoch: 491: 100%|██████████| 313/313 [00:23<00:00, 13.56it/s]\n",
      "Training epoch: 492: 100%|██████████| 313/313 [00:22<00:00, 13.63it/s]\n",
      "Training epoch: 493: 100%|██████████| 313/313 [00:22<00:00, 13.63it/s]\n",
      "Training epoch: 494: 100%|██████████| 313/313 [00:22<00:00, 13.88it/s]\n",
      "Training epoch: 495: 100%|██████████| 313/313 [00:23<00:00, 13.32it/s]\n",
      "Training epoch: 496: 100%|██████████| 313/313 [00:23<00:00, 13.53it/s]\n",
      "Training epoch: 497: 100%|██████████| 313/313 [00:22<00:00, 14.05it/s]\n",
      "Training epoch: 498: 100%|██████████| 313/313 [00:23<00:00, 13.16it/s]\n",
      "Training epoch: 499: 100%|██████████| 313/313 [00:23<00:00, 13.15it/s]\n",
      "Training epoch: 500: 100%|██████████| 313/313 [00:22<00:00, 13.97it/s]\n"
     ]
    },
    {
     "data": {
      "image/png": "[encoded data removed]",
      "text/plain": [
       "<Figure size 640x480 with 1 Axes>"
      ]
     },
     "metadata": {},
     "output_type": "display_data"
    }
   ],
   "source": [
    "checkpoints = [1, 10, 100, 500]\n",
    "def train(epochs):\n",
    "    for epoch in range(epochs):\n",
    "        for image_batch in tqdm(final_ds, desc=f\"Training epoch: {epoch+1}\"):\n",
    "            train_step(image_batch)\n",
    "        \n",
    "        if (epoch+1) in checkpoints:\n",
    "            out = generator(tf.random.normal([1, LATENT_DIM]))\n",
    "            plt.imshow((out[0] + 1) / 2)\n",
    "            plt.show()\n",
    "\n",
    "train(500)"
   ]
  }
 ],
 "metadata": {
  "kaggle": {
   "accelerator": "nvidiaTeslaT4",
   "dataSources": [
    {
     "datasetId": 13371,
     "sourceId": 18106,
     "sourceType": "datasetVersion"
    }
   ],
   "dockerImageVersionId": 31011,
   "isGpuEnabled": true,
   "isInternetEnabled": true,
   "language": "python",
   "sourceType": "notebook"
  },
  "kernelspec": {
   "display_name": "Python 3",
   "language": "python",
   "name": "python3"
  },
  "language_info": {
   "codemirror_mode": {
    "name": "ipython",
    "version": 3
   },
   "file_extension": ".py",
   "mimetype": "text/x-python",
   "name": "python",
   "nbconvert_exporter": "python",
   "pygments_lexer": "ipython3",
   "version": "3.11.11"
  },
  "papermill": {
   "default_parameters": {},
   "duration": 11477.517749,
   "end_time": "2025-05-12T13:42:13.975058",
   "environment_variables": {},
   "exception": null,
   "input_path": "__notebook__.ipynb",
   "output_path": "__notebook__.ipynb",
   "parameters": {},
   "start_time": "2025-05-12T10:30:56.457309",
   "version": "2.6.0"
  }
 },
 "nbformat": 4,
 "nbformat_minor": 5
}
